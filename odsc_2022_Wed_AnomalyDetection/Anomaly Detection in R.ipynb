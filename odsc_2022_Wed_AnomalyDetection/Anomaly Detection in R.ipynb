{
 "cells": [
  {
   "cell_type": "markdown",
   "id": "english-mambo",
   "metadata": {},
   "source": [
    "# Anomaly Detection in R"
   ]
  },
  {
   "cell_type": "markdown",
   "id": "municipal-scottish",
   "metadata": {},
   "source": [
    "This notebook covers the material in the AI+ Training course on an introduction to fraud and anomaly detection. It goes through three main modules as follows:\n",
    "\n",
    "1. Data Preparation\n",
    "2. Probability and Statistical Approaches\n",
    "3. Machine Learning Approaches\n",
    "\n",
    "The following code loads all the necessary packages and libraries for the analysis."
   ]
  },
  {
   "cell_type": "code",
   "execution_count": null,
   "id": "ambient-operator",
   "metadata": {},
   "outputs": [],
   "source": [
    "# Needed Packages for Analysis #\n",
    "install.packages(\"benford.analysis\")\n",
    "install.packages(\"robustbase\")\n",
    "install.packages(\"car\")\n",
    "install.packages(\"stats\")\n",
    "install.packages(\"FNN\")\n",
    "install.packages(\"dbscan\")\n",
    "install.packages(\"randomForest\")\n",
    "install.packages(\"devtools\")\n",
    "install.packages(\"isotree\")\n",
    "install.packages(\"lubridate\")\n",
    "isntall.packages(\"circular\")\n",
    "install.packages(\"dplyr\")\n",
    "install.packages(\"MASS\")\n",
    "install.packages(\"ggplot2\")\n",
    "install.packages(\"e1071\")"
   ]
  },
  {
   "cell_type": "code",
   "execution_count": 2,
   "id": "verbal-wilson",
   "metadata": {},
   "outputs": [
    {
     "name": "stderr",
     "output_type": "stream",
     "text": [
      "Loading required package: carData\n",
      "\n",
      "randomForest 4.6-14\n",
      "\n",
      "Type rfNews() to see new features/changes/bug fixes.\n",
      "\n",
      "Loading required package: usethis\n",
      "\n",
      "\n",
      "Attaching package: 'lubridate'\n",
      "\n",
      "\n",
      "The following objects are masked from 'package:base':\n",
      "\n",
      "    date, intersect, setdiff, union\n",
      "\n",
      "\n",
      "\n",
      "Attaching package: 'circular'\n",
      "\n",
      "\n",
      "The following objects are masked from 'package:stats':\n",
      "\n",
      "    sd, var\n",
      "\n",
      "\n",
      "\n",
      "Attaching package: 'ggplot2'\n",
      "\n",
      "\n",
      "The following object is masked from 'package:randomForest':\n",
      "\n",
      "    margin\n",
      "\n",
      "\n",
      "\n",
      "Attaching package: 'dplyr'\n",
      "\n",
      "\n",
      "The following object is masked from 'package:randomForest':\n",
      "\n",
      "    combine\n",
      "\n",
      "\n",
      "The following object is masked from 'package:car':\n",
      "\n",
      "    recode\n",
      "\n",
      "\n",
      "The following object is masked from 'package:MASS':\n",
      "\n",
      "    select\n",
      "\n",
      "\n",
      "The following objects are masked from 'package:stats':\n",
      "\n",
      "    filter, lag\n",
      "\n",
      "\n",
      "The following objects are masked from 'package:base':\n",
      "\n",
      "    intersect, setdiff, setequal, union\n",
      "\n",
      "\n"
     ]
    }
   ],
   "source": [
    "# Needed Libraries for Analysis #\n",
    "library(MASS)\n",
    "library(benford.analysis)\n",
    "library(robustbase)\n",
    "library(car)\n",
    "library(stats)\n",
    "library(FNN)\n",
    "library(dbscan)\n",
    "library(randomForest)\n",
    "library(devtools)\n",
    "library(isotree)\n",
    "library(lubridate)\n",
    "library(circular)\n",
    "library(e1071)\n",
    "library(ggplot2)\n",
    "library(dplyr)"
   ]
  },
  {
   "cell_type": "markdown",
   "id": "outdoor-bonus",
   "metadata": {},
   "source": [
    "## Data Preparation"
   ]
  },
  {
   "cell_type": "markdown",
   "id": "brief-stephen",
   "metadata": {},
   "source": [
    "This module details the area of data preparation for good anomaly detection. Anomaly detection is only as good as the data and the features that you have to detect anomalies. This module covers four main concepts in data preparation:\n",
    "\n",
    "1. Feature Engineering\n",
    "2. Recency and Frequency\n",
    "3. Periodic Means\n",
    "4. Categorical Feature Engineering\n",
    "\n",
    "Let's load the dataset we will be working with."
   ]
  },
  {
   "cell_type": "code",
   "execution_count": 4,
   "id": "pleasant-anatomy",
   "metadata": {},
   "outputs": [
    {
     "data": {
      "text/html": [
       "<table class=\"dataframe\">\n",
       "<caption>A data.frame: 6 × 8</caption>\n",
       "<thead>\n",
       "\t<tr><th></th><th scope=col>Date</th><th scope=col>Cust_ID</th><th scope=col>Transaction</th><th scope=col>Type</th><th scope=col>Reward_R</th><th scope=col>Reward_A</th><th scope=col>Cov_Limit</th><th scope=col>Income</th></tr>\n",
       "\t<tr><th></th><th scope=col>&lt;chr&gt;</th><th scope=col>&lt;chr&gt;</th><th scope=col>&lt;chr&gt;</th><th scope=col>&lt;chr&gt;</th><th scope=col>&lt;int&gt;</th><th scope=col>&lt;int&gt;</th><th scope=col>&lt;int&gt;</th><th scope=col>&lt;int&gt;</th></tr>\n",
       "</thead>\n",
       "<tbody>\n",
       "\t<tr><th scope=row>1</th><td>9/10/1977 </td><td>PSX000100006</td><td>IN</td><td>T</td><td> NA</td><td>   NA</td><td> 50000</td><td>61000</td></tr>\n",
       "\t<tr><th scope=row>2</th><td>12/31/2005</td><td>PSX000100006</td><td>CL</td><td>T</td><td> NA</td><td>   NA</td><td> 50000</td><td>61000</td></tr>\n",
       "\t<tr><th scope=row>3</th><td>1/17/2006 </td><td>PSX000100006</td><td>RE</td><td>T</td><td>265</td><td>50000</td><td>    NA</td><td>   NA</td></tr>\n",
       "\t<tr><th scope=row>4</th><td>12/15/1998</td><td>PSX000100010</td><td>IN</td><td>T</td><td> NA</td><td>   NA</td><td>100000</td><td>29000</td></tr>\n",
       "\t<tr><th scope=row>5</th><td>6/7/1961  </td><td>PSX000100013</td><td>IN</td><td>V</td><td> NA</td><td>   NA</td><td>100000</td><td>48000</td></tr>\n",
       "\t<tr><th scope=row>6</th><td>6/12/2001 </td><td>PSX000100013</td><td>CL</td><td>V</td><td> NA</td><td>   NA</td><td>100000</td><td>48000</td></tr>\n",
       "</tbody>\n",
       "</table>\n"
      ],
      "text/latex": [
       "A data.frame: 6 × 8\n",
       "\\begin{tabular}{r|llllllll}\n",
       "  & Date & Cust\\_ID & Transaction & Type & Reward\\_R & Reward\\_A & Cov\\_Limit & Income\\\\\n",
       "  & <chr> & <chr> & <chr> & <chr> & <int> & <int> & <int> & <int>\\\\\n",
       "\\hline\n",
       "\t1 & 9/10/1977  & PSX000100006 & IN & T &  NA &    NA &  50000 & 61000\\\\\n",
       "\t2 & 12/31/2005 & PSX000100006 & CL & T &  NA &    NA &  50000 & 61000\\\\\n",
       "\t3 & 1/17/2006  & PSX000100006 & RE & T & 265 & 50000 &     NA &    NA\\\\\n",
       "\t4 & 12/15/1998 & PSX000100010 & IN & T &  NA &    NA & 100000 & 29000\\\\\n",
       "\t5 & 6/7/1961   & PSX000100013 & IN & V &  NA &    NA & 100000 & 48000\\\\\n",
       "\t6 & 6/12/2001  & PSX000100013 & CL & V &  NA &    NA & 100000 & 48000\\\\\n",
       "\\end{tabular}\n"
      ],
      "text/markdown": [
       "\n",
       "A data.frame: 6 × 8\n",
       "\n",
       "| <!--/--> | Date &lt;chr&gt; | Cust_ID &lt;chr&gt; | Transaction &lt;chr&gt; | Type &lt;chr&gt; | Reward_R &lt;int&gt; | Reward_A &lt;int&gt; | Cov_Limit &lt;int&gt; | Income &lt;int&gt; |\n",
       "|---|---|---|---|---|---|---|---|---|\n",
       "| 1 | 9/10/1977  | PSX000100006 | IN | T |  NA |    NA |  50000 | 61000 |\n",
       "| 2 | 12/31/2005 | PSX000100006 | CL | T |  NA |    NA |  50000 | 61000 |\n",
       "| 3 | 1/17/2006  | PSX000100006 | RE | T | 265 | 50000 |     NA |    NA |\n",
       "| 4 | 12/15/1998 | PSX000100010 | IN | T |  NA |    NA | 100000 | 29000 |\n",
       "| 5 | 6/7/1961   | PSX000100013 | IN | V |  NA |    NA | 100000 | 48000 |\n",
       "| 6 | 6/12/2001  | PSX000100013 | CL | V |  NA |    NA | 100000 | 48000 |\n",
       "\n"
      ],
      "text/plain": [
       "  Date       Cust_ID      Transaction Type Reward_R Reward_A Cov_Limit Income\n",
       "1 9/10/1977  PSX000100006 IN          T     NA         NA     50000    61000 \n",
       "2 12/31/2005 PSX000100006 CL          T     NA         NA     50000    61000 \n",
       "3 1/17/2006  PSX000100006 RE          T    265      50000        NA       NA \n",
       "4 12/15/1998 PSX000100010 IN          T     NA         NA    100000    29000 \n",
       "5 6/7/1961   PSX000100013 IN          V     NA         NA    100000    48000 \n",
       "6 6/12/2001  PSX000100013 CL          V     NA         NA    100000    48000 "
      ]
     },
     "metadata": {},
     "output_type": "display_data"
    }
   ],
   "source": [
    "ins <- read.csv(\"transactions_ins.csv\")\n",
    "\n",
    "head(ins)"
   ]
  },
  {
   "cell_type": "code",
   "execution_count": 5,
   "id": "differential-missile",
   "metadata": {},
   "outputs": [
    {
     "data": {
      "text/plain": [
       "     Date             Cust_ID          Transaction            Type          \n",
       " Length:278877      Length:278877      Length:278877      Length:278877     \n",
       " Class :character   Class :character   Class :character   Class :character  \n",
       " Mode  :character   Mode  :character   Mode  :character   Mode  :character  \n",
       "                                                                            \n",
       "                                                                            \n",
       "                                                                            \n",
       "                                                                            \n",
       "    Reward_R         Reward_A         Cov_Limit           Income      \n",
       " Min.   :100.0    Min.   :      0   Min.   :  50000   Min.   : 15000  \n",
       " 1st Qu.:207.0    1st Qu.: 100000   1st Qu.: 100000   1st Qu.: 34422  \n",
       " Median :314.0    Median : 150000   Median : 150000   Median : 50000  \n",
       " Mean   :315.7    Mean   : 224725   Mean   : 205779   Mean   : 53364  \n",
       " 3rd Qu.:421.0    3rd Qu.: 300000   3rd Qu.: 250000   3rd Qu.: 68026  \n",
       " Max.   :579.0    Max.   :2700000   Max.   :2700000   Max.   :232392  \n",
       " NA's   :234389   NA's   :234389    NA's   :44488     NA's   :44488   "
      ]
     },
     "metadata": {},
     "output_type": "display_data"
    }
   ],
   "source": [
    "summary(ins)"
   ]
  },
  {
   "cell_type": "code",
   "execution_count": 6,
   "id": "metallic-indication",
   "metadata": {},
   "outputs": [],
   "source": [
    "ins$Date <- as.Date(ins$Date, \"%m/%d/%Y\")"
   ]
  },
  {
   "cell_type": "markdown",
   "id": "functional-worse",
   "metadata": {},
   "source": [
    "### Feature Engineering"
   ]
  },
  {
   "cell_type": "markdown",
   "id": "bored-proposal",
   "metadata": {},
   "source": [
    "The concept of feature engineering is vitally important to anomaly detection. In my personal experience, the best features aren't just automatically generated by a computer, but thought up by a knowledgable individual working on the problem. \n",
    "\n",
    "We are going to role up the transactions to be one per individual. Here are some basic features when rolling up our transactions that might be important when discovering fraud:\n",
    "- Final income\n",
    "- Time between claim and reward\n",
    "- Coverage limit to income ratio at claim\n",
    "\n",
    "Think of some more of your own!"
   ]
  },
  {
   "cell_type": "markdown",
   "id": "advisory-sacramento",
   "metadata": {},
   "source": [
    "Let's create final income."
   ]
  },
  {
   "cell_type": "code",
   "execution_count": 7,
   "id": "given-phoenix",
   "metadata": {},
   "outputs": [
    {
     "data": {
      "text/html": [
       "<table class=\"dataframe\">\n",
       "<caption>A data.frame: 10 × 3</caption>\n",
       "<thead>\n",
       "\t<tr><th></th><th scope=col>Cust_ID</th><th scope=col>Cov_Limit</th><th scope=col>Income</th></tr>\n",
       "\t<tr><th></th><th scope=col>&lt;chr&gt;</th><th scope=col>&lt;int&gt;</th><th scope=col>&lt;int&gt;</th></tr>\n",
       "</thead>\n",
       "<tbody>\n",
       "\t<tr><th scope=row>1</th><td>PSX000100006</td><td> 50000</td><td> 61000</td></tr>\n",
       "\t<tr><th scope=row>2</th><td>PSX000100013</td><td>100000</td><td> 48000</td></tr>\n",
       "\t<tr><th scope=row>3</th><td>PSX000100073</td><td>100000</td><td> 35000</td></tr>\n",
       "\t<tr><th scope=row>4</th><td>PSX000100081</td><td> 50000</td><td> 69000</td></tr>\n",
       "\t<tr><th scope=row>5</th><td>PSX000100122</td><td>150000</td><td>105000</td></tr>\n",
       "\t<tr><th scope=row>6</th><td>PSX000100146</td><td>100000</td><td> 38000</td></tr>\n",
       "\t<tr><th scope=row>7</th><td>PSX000100231</td><td>400000</td><td> 79155</td></tr>\n",
       "\t<tr><th scope=row>8</th><td>PSX000100236</td><td>250000</td><td> 54738</td></tr>\n",
       "\t<tr><th scope=row>9</th><td>PSX000100286</td><td>150000</td><td> 95973</td></tr>\n",
       "\t<tr><th scope=row>10</th><td>PSX00010030 </td><td>350000</td><td> 37725</td></tr>\n",
       "</tbody>\n",
       "</table>\n"
      ],
      "text/latex": [
       "A data.frame: 10 × 3\n",
       "\\begin{tabular}{r|lll}\n",
       "  & Cust\\_ID & Cov\\_Limit & Income\\\\\n",
       "  & <chr> & <int> & <int>\\\\\n",
       "\\hline\n",
       "\t1 & PSX000100006 &  50000 &  61000\\\\\n",
       "\t2 & PSX000100013 & 100000 &  48000\\\\\n",
       "\t3 & PSX000100073 & 100000 &  35000\\\\\n",
       "\t4 & PSX000100081 &  50000 &  69000\\\\\n",
       "\t5 & PSX000100122 & 150000 & 105000\\\\\n",
       "\t6 & PSX000100146 & 100000 &  38000\\\\\n",
       "\t7 & PSX000100231 & 400000 &  79155\\\\\n",
       "\t8 & PSX000100236 & 250000 &  54738\\\\\n",
       "\t9 & PSX000100286 & 150000 &  95973\\\\\n",
       "\t10 & PSX00010030  & 350000 &  37725\\\\\n",
       "\\end{tabular}\n"
      ],
      "text/markdown": [
       "\n",
       "A data.frame: 10 × 3\n",
       "\n",
       "| <!--/--> | Cust_ID &lt;chr&gt; | Cov_Limit &lt;int&gt; | Income &lt;int&gt; |\n",
       "|---|---|---|---|\n",
       "| 1 | PSX000100006 |  50000 |  61000 |\n",
       "| 2 | PSX000100013 | 100000 |  48000 |\n",
       "| 3 | PSX000100073 | 100000 |  35000 |\n",
       "| 4 | PSX000100081 |  50000 |  69000 |\n",
       "| 5 | PSX000100122 | 150000 | 105000 |\n",
       "| 6 | PSX000100146 | 100000 |  38000 |\n",
       "| 7 | PSX000100231 | 400000 |  79155 |\n",
       "| 8 | PSX000100236 | 250000 |  54738 |\n",
       "| 9 | PSX000100286 | 150000 |  95973 |\n",
       "| 10 | PSX00010030  | 350000 |  37725 |\n",
       "\n"
      ],
      "text/plain": [
       "   Cust_ID      Cov_Limit Income\n",
       "1  PSX000100006  50000     61000\n",
       "2  PSX000100013 100000     48000\n",
       "3  PSX000100073 100000     35000\n",
       "4  PSX000100081  50000     69000\n",
       "5  PSX000100122 150000    105000\n",
       "6  PSX000100146 100000     38000\n",
       "7  PSX000100231 400000     79155\n",
       "8  PSX000100236 250000     54738\n",
       "9  PSX000100286 150000     95973\n",
       "10 PSX00010030  350000     37725"
      ]
     },
     "metadata": {},
     "output_type": "display_data"
    }
   ],
   "source": [
    "ins_income <- ins %>% filter(Transaction == 'CL') %>% select(Cust_ID, Cov_Limit, Income)\n",
    "\n",
    "head(ins_income, n = 10)"
   ]
  },
  {
   "cell_type": "markdown",
   "id": "private-sierra",
   "metadata": {},
   "source": [
    "Now, let's create time in between claim and reward."
   ]
  },
  {
   "cell_type": "code",
   "execution_count": 8,
   "id": "employed-daniel",
   "metadata": {},
   "outputs": [
    {
     "data": {
      "text/html": [
       "<table class=\"dataframe\">\n",
       "<caption>A data.frame: 10 × 8</caption>\n",
       "<thead>\n",
       "\t<tr><th></th><th scope=col>Date</th><th scope=col>Cust_ID</th><th scope=col>Transaction</th><th scope=col>Type</th><th scope=col>Reward_R</th><th scope=col>Reward_A</th><th scope=col>Cov_Limit</th><th scope=col>Income</th></tr>\n",
       "\t<tr><th></th><th scope=col>&lt;date&gt;</th><th scope=col>&lt;chr&gt;</th><th scope=col>&lt;chr&gt;</th><th scope=col>&lt;chr&gt;</th><th scope=col>&lt;int&gt;</th><th scope=col>&lt;int&gt;</th><th scope=col>&lt;int&gt;</th><th scope=col>&lt;int&gt;</th></tr>\n",
       "</thead>\n",
       "<tbody>\n",
       "\t<tr><th scope=row>1</th><td>2005-12-31</td><td>PSX000100006</td><td>CL</td><td>T</td><td> NA</td><td>    NA</td><td> 50000</td><td> 61000</td></tr>\n",
       "\t<tr><th scope=row>2</th><td>2006-01-17</td><td>PSX000100006</td><td>RE</td><td>T</td><td>265</td><td> 50000</td><td>    NA</td><td>    NA</td></tr>\n",
       "\t<tr><th scope=row>3</th><td>2001-06-12</td><td>PSX000100013</td><td>CL</td><td>V</td><td> NA</td><td>    NA</td><td>100000</td><td> 48000</td></tr>\n",
       "\t<tr><th scope=row>4</th><td>2001-07-11</td><td>PSX000100013</td><td>RE</td><td>V</td><td>265</td><td>100000</td><td>    NA</td><td>    NA</td></tr>\n",
       "\t<tr><th scope=row>5</th><td>2004-01-21</td><td>PSX000100073</td><td>CL</td><td>V</td><td> NA</td><td>    NA</td><td>100000</td><td> 35000</td></tr>\n",
       "\t<tr><th scope=row>6</th><td>2004-02-14</td><td>PSX000100073</td><td>RE</td><td>V</td><td>450</td><td>100000</td><td>    NA</td><td>    NA</td></tr>\n",
       "\t<tr><th scope=row>7</th><td>2009-06-28</td><td>PSX000100081</td><td>CL</td><td>T</td><td> NA</td><td>    NA</td><td> 50000</td><td> 69000</td></tr>\n",
       "\t<tr><th scope=row>8</th><td>2009-07-26</td><td>PSX000100081</td><td>RE</td><td>T</td><td>543</td><td>     0</td><td>    NA</td><td>    NA</td></tr>\n",
       "\t<tr><th scope=row>9</th><td>1991-08-23</td><td>PSX000100122</td><td>CL</td><td>T</td><td> NA</td><td>    NA</td><td>150000</td><td>105000</td></tr>\n",
       "\t<tr><th scope=row>10</th><td>1991-09-08</td><td>PSX000100122</td><td>RE</td><td>T</td><td>200</td><td>150000</td><td>    NA</td><td>    NA</td></tr>\n",
       "</tbody>\n",
       "</table>\n"
      ],
      "text/latex": [
       "A data.frame: 10 × 8\n",
       "\\begin{tabular}{r|llllllll}\n",
       "  & Date & Cust\\_ID & Transaction & Type & Reward\\_R & Reward\\_A & Cov\\_Limit & Income\\\\\n",
       "  & <date> & <chr> & <chr> & <chr> & <int> & <int> & <int> & <int>\\\\\n",
       "\\hline\n",
       "\t1 & 2005-12-31 & PSX000100006 & CL & T &  NA &     NA &  50000 &  61000\\\\\n",
       "\t2 & 2006-01-17 & PSX000100006 & RE & T & 265 &  50000 &     NA &     NA\\\\\n",
       "\t3 & 2001-06-12 & PSX000100013 & CL & V &  NA &     NA & 100000 &  48000\\\\\n",
       "\t4 & 2001-07-11 & PSX000100013 & RE & V & 265 & 100000 &     NA &     NA\\\\\n",
       "\t5 & 2004-01-21 & PSX000100073 & CL & V &  NA &     NA & 100000 &  35000\\\\\n",
       "\t6 & 2004-02-14 & PSX000100073 & RE & V & 450 & 100000 &     NA &     NA\\\\\n",
       "\t7 & 2009-06-28 & PSX000100081 & CL & T &  NA &     NA &  50000 &  69000\\\\\n",
       "\t8 & 2009-07-26 & PSX000100081 & RE & T & 543 &      0 &     NA &     NA\\\\\n",
       "\t9 & 1991-08-23 & PSX000100122 & CL & T &  NA &     NA & 150000 & 105000\\\\\n",
       "\t10 & 1991-09-08 & PSX000100122 & RE & T & 200 & 150000 &     NA &     NA\\\\\n",
       "\\end{tabular}\n"
      ],
      "text/markdown": [
       "\n",
       "A data.frame: 10 × 8\n",
       "\n",
       "| <!--/--> | Date &lt;date&gt; | Cust_ID &lt;chr&gt; | Transaction &lt;chr&gt; | Type &lt;chr&gt; | Reward_R &lt;int&gt; | Reward_A &lt;int&gt; | Cov_Limit &lt;int&gt; | Income &lt;int&gt; |\n",
       "|---|---|---|---|---|---|---|---|---|\n",
       "| 1 | 2005-12-31 | PSX000100006 | CL | T |  NA |     NA |  50000 |  61000 |\n",
       "| 2 | 2006-01-17 | PSX000100006 | RE | T | 265 |  50000 |     NA |     NA |\n",
       "| 3 | 2001-06-12 | PSX000100013 | CL | V |  NA |     NA | 100000 |  48000 |\n",
       "| 4 | 2001-07-11 | PSX000100013 | RE | V | 265 | 100000 |     NA |     NA |\n",
       "| 5 | 2004-01-21 | PSX000100073 | CL | V |  NA |     NA | 100000 |  35000 |\n",
       "| 6 | 2004-02-14 | PSX000100073 | RE | V | 450 | 100000 |     NA |     NA |\n",
       "| 7 | 2009-06-28 | PSX000100081 | CL | T |  NA |     NA |  50000 |  69000 |\n",
       "| 8 | 2009-07-26 | PSX000100081 | RE | T | 543 |      0 |     NA |     NA |\n",
       "| 9 | 1991-08-23 | PSX000100122 | CL | T |  NA |     NA | 150000 | 105000 |\n",
       "| 10 | 1991-09-08 | PSX000100122 | RE | T | 200 | 150000 |     NA |     NA |\n",
       "\n"
      ],
      "text/plain": [
       "   Date       Cust_ID      Transaction Type Reward_R Reward_A Cov_Limit Income\n",
       "1  2005-12-31 PSX000100006 CL          T     NA          NA    50000     61000\n",
       "2  2006-01-17 PSX000100006 RE          T    265       50000       NA        NA\n",
       "3  2001-06-12 PSX000100013 CL          V     NA          NA   100000     48000\n",
       "4  2001-07-11 PSX000100013 RE          V    265      100000       NA        NA\n",
       "5  2004-01-21 PSX000100073 CL          V     NA          NA   100000     35000\n",
       "6  2004-02-14 PSX000100073 RE          V    450      100000       NA        NA\n",
       "7  2009-06-28 PSX000100081 CL          T     NA          NA    50000     69000\n",
       "8  2009-07-26 PSX000100081 RE          T    543           0       NA        NA\n",
       "9  1991-08-23 PSX000100122 CL          T     NA          NA   150000    105000\n",
       "10 1991-09-08 PSX000100122 RE          T    200      150000       NA        NA"
      ]
     },
     "metadata": {},
     "output_type": "display_data"
    }
   ],
   "source": [
    "ins_time <- ins %>% filter(Transaction == 'CL' | Transaction == 'RE') \n",
    "\n",
    "head(ins_time, n = 10)"
   ]
  },
  {
   "cell_type": "code",
   "execution_count": 9,
   "id": "tracked-robert",
   "metadata": {},
   "outputs": [
    {
     "data": {
      "text/html": [
       "<table class=\"dataframe\">\n",
       "<caption>A data.frame: 10 × 9</caption>\n",
       "<thead>\n",
       "\t<tr><th></th><th scope=col>Date</th><th scope=col>Cust_ID</th><th scope=col>Transaction</th><th scope=col>Type</th><th scope=col>Reward_R</th><th scope=col>Reward_A</th><th scope=col>Cov_Limit</th><th scope=col>Income</th><th scope=col>diff</th></tr>\n",
       "\t<tr><th></th><th scope=col>&lt;date&gt;</th><th scope=col>&lt;chr&gt;</th><th scope=col>&lt;chr&gt;</th><th scope=col>&lt;chr&gt;</th><th scope=col>&lt;int&gt;</th><th scope=col>&lt;int&gt;</th><th scope=col>&lt;int&gt;</th><th scope=col>&lt;int&gt;</th><th scope=col>&lt;drtn&gt;</th></tr>\n",
       "</thead>\n",
       "<tbody>\n",
       "\t<tr><th scope=row>1</th><td>2005-12-31</td><td>PSX000100006</td><td>CL</td><td>T</td><td> NA</td><td>    NA</td><td> 50000</td><td> 61000</td><td>   NA days</td></tr>\n",
       "\t<tr><th scope=row>2</th><td>2006-01-17</td><td>PSX000100006</td><td>RE</td><td>T</td><td>265</td><td> 50000</td><td>    NA</td><td>    NA</td><td>   17 days</td></tr>\n",
       "\t<tr><th scope=row>3</th><td>2001-06-12</td><td>PSX000100013</td><td>CL</td><td>V</td><td> NA</td><td>    NA</td><td>100000</td><td> 48000</td><td>-1680 days</td></tr>\n",
       "\t<tr><th scope=row>4</th><td>2001-07-11</td><td>PSX000100013</td><td>RE</td><td>V</td><td>265</td><td>100000</td><td>    NA</td><td>    NA</td><td>   29 days</td></tr>\n",
       "\t<tr><th scope=row>5</th><td>2004-01-21</td><td>PSX000100073</td><td>CL</td><td>V</td><td> NA</td><td>    NA</td><td>100000</td><td> 35000</td><td>  924 days</td></tr>\n",
       "\t<tr><th scope=row>6</th><td>2004-02-14</td><td>PSX000100073</td><td>RE</td><td>V</td><td>450</td><td>100000</td><td>    NA</td><td>    NA</td><td>   24 days</td></tr>\n",
       "\t<tr><th scope=row>7</th><td>2009-06-28</td><td>PSX000100081</td><td>CL</td><td>T</td><td> NA</td><td>    NA</td><td> 50000</td><td> 69000</td><td> 1961 days</td></tr>\n",
       "\t<tr><th scope=row>8</th><td>2009-07-26</td><td>PSX000100081</td><td>RE</td><td>T</td><td>543</td><td>     0</td><td>    NA</td><td>    NA</td><td>   28 days</td></tr>\n",
       "\t<tr><th scope=row>9</th><td>1991-08-23</td><td>PSX000100122</td><td>CL</td><td>T</td><td> NA</td><td>    NA</td><td>150000</td><td>105000</td><td>-6547 days</td></tr>\n",
       "\t<tr><th scope=row>10</th><td>1991-09-08</td><td>PSX000100122</td><td>RE</td><td>T</td><td>200</td><td>150000</td><td>    NA</td><td>    NA</td><td>   16 days</td></tr>\n",
       "</tbody>\n",
       "</table>\n"
      ],
      "text/latex": [
       "A data.frame: 10 × 9\n",
       "\\begin{tabular}{r|lllllllll}\n",
       "  & Date & Cust\\_ID & Transaction & Type & Reward\\_R & Reward\\_A & Cov\\_Limit & Income & diff\\\\\n",
       "  & <date> & <chr> & <chr> & <chr> & <int> & <int> & <int> & <int> & <drtn>\\\\\n",
       "\\hline\n",
       "\t1 & 2005-12-31 & PSX000100006 & CL & T &  NA &     NA &  50000 &  61000 &    NA days\\\\\n",
       "\t2 & 2006-01-17 & PSX000100006 & RE & T & 265 &  50000 &     NA &     NA &    17 days\\\\\n",
       "\t3 & 2001-06-12 & PSX000100013 & CL & V &  NA &     NA & 100000 &  48000 & -1680 days\\\\\n",
       "\t4 & 2001-07-11 & PSX000100013 & RE & V & 265 & 100000 &     NA &     NA &    29 days\\\\\n",
       "\t5 & 2004-01-21 & PSX000100073 & CL & V &  NA &     NA & 100000 &  35000 &   924 days\\\\\n",
       "\t6 & 2004-02-14 & PSX000100073 & RE & V & 450 & 100000 &     NA &     NA &    24 days\\\\\n",
       "\t7 & 2009-06-28 & PSX000100081 & CL & T &  NA &     NA &  50000 &  69000 &  1961 days\\\\\n",
       "\t8 & 2009-07-26 & PSX000100081 & RE & T & 543 &      0 &     NA &     NA &    28 days\\\\\n",
       "\t9 & 1991-08-23 & PSX000100122 & CL & T &  NA &     NA & 150000 & 105000 & -6547 days\\\\\n",
       "\t10 & 1991-09-08 & PSX000100122 & RE & T & 200 & 150000 &     NA &     NA &    16 days\\\\\n",
       "\\end{tabular}\n"
      ],
      "text/markdown": [
       "\n",
       "A data.frame: 10 × 9\n",
       "\n",
       "| <!--/--> | Date &lt;date&gt; | Cust_ID &lt;chr&gt; | Transaction &lt;chr&gt; | Type &lt;chr&gt; | Reward_R &lt;int&gt; | Reward_A &lt;int&gt; | Cov_Limit &lt;int&gt; | Income &lt;int&gt; | diff &lt;drtn&gt; |\n",
       "|---|---|---|---|---|---|---|---|---|---|\n",
       "| 1 | 2005-12-31 | PSX000100006 | CL | T |  NA |     NA |  50000 |  61000 |    NA days |\n",
       "| 2 | 2006-01-17 | PSX000100006 | RE | T | 265 |  50000 |     NA |     NA |    17 days |\n",
       "| 3 | 2001-06-12 | PSX000100013 | CL | V |  NA |     NA | 100000 |  48000 | -1680 days |\n",
       "| 4 | 2001-07-11 | PSX000100013 | RE | V | 265 | 100000 |     NA |     NA |    29 days |\n",
       "| 5 | 2004-01-21 | PSX000100073 | CL | V |  NA |     NA | 100000 |  35000 |   924 days |\n",
       "| 6 | 2004-02-14 | PSX000100073 | RE | V | 450 | 100000 |     NA |     NA |    24 days |\n",
       "| 7 | 2009-06-28 | PSX000100081 | CL | T |  NA |     NA |  50000 |  69000 |  1961 days |\n",
       "| 8 | 2009-07-26 | PSX000100081 | RE | T | 543 |      0 |     NA |     NA |    28 days |\n",
       "| 9 | 1991-08-23 | PSX000100122 | CL | T |  NA |     NA | 150000 | 105000 | -6547 days |\n",
       "| 10 | 1991-09-08 | PSX000100122 | RE | T | 200 | 150000 |     NA |     NA |    16 days |\n",
       "\n"
      ],
      "text/plain": [
       "   Date       Cust_ID      Transaction Type Reward_R Reward_A Cov_Limit Income\n",
       "1  2005-12-31 PSX000100006 CL          T     NA          NA    50000     61000\n",
       "2  2006-01-17 PSX000100006 RE          T    265       50000       NA        NA\n",
       "3  2001-06-12 PSX000100013 CL          V     NA          NA   100000     48000\n",
       "4  2001-07-11 PSX000100013 RE          V    265      100000       NA        NA\n",
       "5  2004-01-21 PSX000100073 CL          V     NA          NA   100000     35000\n",
       "6  2004-02-14 PSX000100073 RE          V    450      100000       NA        NA\n",
       "7  2009-06-28 PSX000100081 CL          T     NA          NA    50000     69000\n",
       "8  2009-07-26 PSX000100081 RE          T    543           0       NA        NA\n",
       "9  1991-08-23 PSX000100122 CL          T     NA          NA   150000    105000\n",
       "10 1991-09-08 PSX000100122 RE          T    200      150000       NA        NA\n",
       "   diff      \n",
       "1     NA days\n",
       "2     17 days\n",
       "3  -1680 days\n",
       "4     29 days\n",
       "5    924 days\n",
       "6     24 days\n",
       "7   1961 days\n",
       "8     28 days\n",
       "9  -6547 days\n",
       "10    16 days"
      ]
     },
     "metadata": {},
     "output_type": "display_data"
    }
   ],
   "source": [
    "ins_time$diff <- ins_time$Date - lag(ins_time$Date)\n",
    "\n",
    "head(ins_time, n = 10)"
   ]
  },
  {
   "cell_type": "code",
   "execution_count": 10,
   "id": "adaptive-migration",
   "metadata": {
    "scrolled": true
   },
   "outputs": [
    {
     "data": {
      "text/html": [
       "<table class=\"dataframe\">\n",
       "<caption>A data.frame: 10 × 6</caption>\n",
       "<thead>\n",
       "\t<tr><th></th><th scope=col>Date</th><th scope=col>Cust_ID</th><th scope=col>Type</th><th scope=col>Reward_R</th><th scope=col>Reward_A</th><th scope=col>diff</th></tr>\n",
       "\t<tr><th></th><th scope=col>&lt;date&gt;</th><th scope=col>&lt;chr&gt;</th><th scope=col>&lt;chr&gt;</th><th scope=col>&lt;int&gt;</th><th scope=col>&lt;int&gt;</th><th scope=col>&lt;drtn&gt;</th></tr>\n",
       "</thead>\n",
       "<tbody>\n",
       "\t<tr><th scope=row>1</th><td>2006-01-17</td><td>PSX000100006</td><td>T</td><td>265</td><td> 50000</td><td>17 days</td></tr>\n",
       "\t<tr><th scope=row>2</th><td>2001-07-11</td><td>PSX000100013</td><td>V</td><td>265</td><td>100000</td><td>29 days</td></tr>\n",
       "\t<tr><th scope=row>3</th><td>2004-02-14</td><td>PSX000100073</td><td>V</td><td>450</td><td>100000</td><td>24 days</td></tr>\n",
       "\t<tr><th scope=row>4</th><td>2009-07-26</td><td>PSX000100081</td><td>T</td><td>543</td><td>     0</td><td>28 days</td></tr>\n",
       "\t<tr><th scope=row>5</th><td>1991-09-08</td><td>PSX000100122</td><td>T</td><td>200</td><td>150000</td><td>16 days</td></tr>\n",
       "\t<tr><th scope=row>6</th><td>2009-04-21</td><td>PSX000100146</td><td>T</td><td>275</td><td>100000</td><td>20 days</td></tr>\n",
       "\t<tr><th scope=row>7</th><td>2008-05-05</td><td>PSX000100231</td><td>V</td><td>405</td><td>400000</td><td>25 days</td></tr>\n",
       "\t<tr><th scope=row>8</th><td>1970-10-06</td><td>PSX000100236</td><td>T</td><td>469</td><td>250000</td><td>24 days</td></tr>\n",
       "\t<tr><th scope=row>9</th><td>2003-03-20</td><td>PSX000100286</td><td>V</td><td>337</td><td>150000</td><td>22 days</td></tr>\n",
       "\t<tr><th scope=row>10</th><td>1980-01-09</td><td>PSX00010030 </td><td>T</td><td>377</td><td>350000</td><td>23 days</td></tr>\n",
       "</tbody>\n",
       "</table>\n"
      ],
      "text/latex": [
       "A data.frame: 10 × 6\n",
       "\\begin{tabular}{r|llllll}\n",
       "  & Date & Cust\\_ID & Type & Reward\\_R & Reward\\_A & diff\\\\\n",
       "  & <date> & <chr> & <chr> & <int> & <int> & <drtn>\\\\\n",
       "\\hline\n",
       "\t1 & 2006-01-17 & PSX000100006 & T & 265 &  50000 & 17 days\\\\\n",
       "\t2 & 2001-07-11 & PSX000100013 & V & 265 & 100000 & 29 days\\\\\n",
       "\t3 & 2004-02-14 & PSX000100073 & V & 450 & 100000 & 24 days\\\\\n",
       "\t4 & 2009-07-26 & PSX000100081 & T & 543 &      0 & 28 days\\\\\n",
       "\t5 & 1991-09-08 & PSX000100122 & T & 200 & 150000 & 16 days\\\\\n",
       "\t6 & 2009-04-21 & PSX000100146 & T & 275 & 100000 & 20 days\\\\\n",
       "\t7 & 2008-05-05 & PSX000100231 & V & 405 & 400000 & 25 days\\\\\n",
       "\t8 & 1970-10-06 & PSX000100236 & T & 469 & 250000 & 24 days\\\\\n",
       "\t9 & 2003-03-20 & PSX000100286 & V & 337 & 150000 & 22 days\\\\\n",
       "\t10 & 1980-01-09 & PSX00010030  & T & 377 & 350000 & 23 days\\\\\n",
       "\\end{tabular}\n"
      ],
      "text/markdown": [
       "\n",
       "A data.frame: 10 × 6\n",
       "\n",
       "| <!--/--> | Date &lt;date&gt; | Cust_ID &lt;chr&gt; | Type &lt;chr&gt; | Reward_R &lt;int&gt; | Reward_A &lt;int&gt; | diff &lt;drtn&gt; |\n",
       "|---|---|---|---|---|---|---|\n",
       "| 1 | 2006-01-17 | PSX000100006 | T | 265 |  50000 | 17 days |\n",
       "| 2 | 2001-07-11 | PSX000100013 | V | 265 | 100000 | 29 days |\n",
       "| 3 | 2004-02-14 | PSX000100073 | V | 450 | 100000 | 24 days |\n",
       "| 4 | 2009-07-26 | PSX000100081 | T | 543 |      0 | 28 days |\n",
       "| 5 | 1991-09-08 | PSX000100122 | T | 200 | 150000 | 16 days |\n",
       "| 6 | 2009-04-21 | PSX000100146 | T | 275 | 100000 | 20 days |\n",
       "| 7 | 2008-05-05 | PSX000100231 | V | 405 | 400000 | 25 days |\n",
       "| 8 | 1970-10-06 | PSX000100236 | T | 469 | 250000 | 24 days |\n",
       "| 9 | 2003-03-20 | PSX000100286 | V | 337 | 150000 | 22 days |\n",
       "| 10 | 1980-01-09 | PSX00010030  | T | 377 | 350000 | 23 days |\n",
       "\n"
      ],
      "text/plain": [
       "   Date       Cust_ID      Type Reward_R Reward_A diff   \n",
       "1  2006-01-17 PSX000100006 T    265       50000   17 days\n",
       "2  2001-07-11 PSX000100013 V    265      100000   29 days\n",
       "3  2004-02-14 PSX000100073 V    450      100000   24 days\n",
       "4  2009-07-26 PSX000100081 T    543           0   28 days\n",
       "5  1991-09-08 PSX000100122 T    200      150000   16 days\n",
       "6  2009-04-21 PSX000100146 T    275      100000   20 days\n",
       "7  2008-05-05 PSX000100231 V    405      400000   25 days\n",
       "8  1970-10-06 PSX000100236 T    469      250000   24 days\n",
       "9  2003-03-20 PSX000100286 V    337      150000   22 days\n",
       "10 1980-01-09 PSX00010030  T    377      350000   23 days"
      ]
     },
     "metadata": {},
     "output_type": "display_data"
    }
   ],
   "source": [
    "ins_time <- ins_time %>% filter(Transaction == 'RE') %>% select(-Cov_Limit, -Income, -Transaction)\n",
    "\n",
    "head(ins_time, n = 10)"
   ]
  },
  {
   "cell_type": "markdown",
   "id": "armed-reducing",
   "metadata": {},
   "source": [
    "Lastly, let's combine our datasets from above and create coverage limit to income ratio."
   ]
  },
  {
   "cell_type": "code",
   "execution_count": 11,
   "id": "institutional-remove",
   "metadata": {},
   "outputs": [
    {
     "data": {
      "text/html": [
       "<table class=\"dataframe\">\n",
       "<caption>A data.frame: 10 × 8</caption>\n",
       "<thead>\n",
       "\t<tr><th></th><th scope=col>Cust_ID</th><th scope=col>Date</th><th scope=col>Type</th><th scope=col>Reward_R</th><th scope=col>Reward_A</th><th scope=col>diff</th><th scope=col>Cov_Limit</th><th scope=col>Income</th></tr>\n",
       "\t<tr><th></th><th scope=col>&lt;chr&gt;</th><th scope=col>&lt;date&gt;</th><th scope=col>&lt;chr&gt;</th><th scope=col>&lt;int&gt;</th><th scope=col>&lt;int&gt;</th><th scope=col>&lt;drtn&gt;</th><th scope=col>&lt;int&gt;</th><th scope=col>&lt;int&gt;</th></tr>\n",
       "</thead>\n",
       "<tbody>\n",
       "\t<tr><th scope=row>1</th><td>PSX000100006</td><td>2006-01-17</td><td>T</td><td>265</td><td> 50000</td><td>17 days</td><td> 50000</td><td> 61000</td></tr>\n",
       "\t<tr><th scope=row>2</th><td>PSX000100013</td><td>2001-07-11</td><td>V</td><td>265</td><td>100000</td><td>29 days</td><td>100000</td><td> 48000</td></tr>\n",
       "\t<tr><th scope=row>3</th><td>PSX000100073</td><td>2004-02-14</td><td>V</td><td>450</td><td>100000</td><td>24 days</td><td>100000</td><td> 35000</td></tr>\n",
       "\t<tr><th scope=row>4</th><td>PSX000100081</td><td>2009-07-26</td><td>T</td><td>543</td><td>     0</td><td>28 days</td><td> 50000</td><td> 69000</td></tr>\n",
       "\t<tr><th scope=row>5</th><td>PSX000100122</td><td>1991-09-08</td><td>T</td><td>200</td><td>150000</td><td>16 days</td><td>150000</td><td>105000</td></tr>\n",
       "\t<tr><th scope=row>6</th><td>PSX000100146</td><td>2009-04-21</td><td>T</td><td>275</td><td>100000</td><td>20 days</td><td>100000</td><td> 38000</td></tr>\n",
       "\t<tr><th scope=row>7</th><td>PSX000100231</td><td>2008-05-05</td><td>V</td><td>405</td><td>400000</td><td>25 days</td><td>400000</td><td> 79155</td></tr>\n",
       "\t<tr><th scope=row>8</th><td>PSX000100236</td><td>1970-10-06</td><td>T</td><td>469</td><td>250000</td><td>24 days</td><td>250000</td><td> 54738</td></tr>\n",
       "\t<tr><th scope=row>9</th><td>PSX000100286</td><td>2003-03-20</td><td>V</td><td>337</td><td>150000</td><td>22 days</td><td>150000</td><td> 95973</td></tr>\n",
       "\t<tr><th scope=row>10</th><td>PSX00010030 </td><td>1980-01-09</td><td>T</td><td>377</td><td>350000</td><td>23 days</td><td>350000</td><td> 37725</td></tr>\n",
       "</tbody>\n",
       "</table>\n"
      ],
      "text/latex": [
       "A data.frame: 10 × 8\n",
       "\\begin{tabular}{r|llllllll}\n",
       "  & Cust\\_ID & Date & Type & Reward\\_R & Reward\\_A & diff & Cov\\_Limit & Income\\\\\n",
       "  & <chr> & <date> & <chr> & <int> & <int> & <drtn> & <int> & <int>\\\\\n",
       "\\hline\n",
       "\t1 & PSX000100006 & 2006-01-17 & T & 265 &  50000 & 17 days &  50000 &  61000\\\\\n",
       "\t2 & PSX000100013 & 2001-07-11 & V & 265 & 100000 & 29 days & 100000 &  48000\\\\\n",
       "\t3 & PSX000100073 & 2004-02-14 & V & 450 & 100000 & 24 days & 100000 &  35000\\\\\n",
       "\t4 & PSX000100081 & 2009-07-26 & T & 543 &      0 & 28 days &  50000 &  69000\\\\\n",
       "\t5 & PSX000100122 & 1991-09-08 & T & 200 & 150000 & 16 days & 150000 & 105000\\\\\n",
       "\t6 & PSX000100146 & 2009-04-21 & T & 275 & 100000 & 20 days & 100000 &  38000\\\\\n",
       "\t7 & PSX000100231 & 2008-05-05 & V & 405 & 400000 & 25 days & 400000 &  79155\\\\\n",
       "\t8 & PSX000100236 & 1970-10-06 & T & 469 & 250000 & 24 days & 250000 &  54738\\\\\n",
       "\t9 & PSX000100286 & 2003-03-20 & V & 337 & 150000 & 22 days & 150000 &  95973\\\\\n",
       "\t10 & PSX00010030  & 1980-01-09 & T & 377 & 350000 & 23 days & 350000 &  37725\\\\\n",
       "\\end{tabular}\n"
      ],
      "text/markdown": [
       "\n",
       "A data.frame: 10 × 8\n",
       "\n",
       "| <!--/--> | Cust_ID &lt;chr&gt; | Date &lt;date&gt; | Type &lt;chr&gt; | Reward_R &lt;int&gt; | Reward_A &lt;int&gt; | diff &lt;drtn&gt; | Cov_Limit &lt;int&gt; | Income &lt;int&gt; |\n",
       "|---|---|---|---|---|---|---|---|---|\n",
       "| 1 | PSX000100006 | 2006-01-17 | T | 265 |  50000 | 17 days |  50000 |  61000 |\n",
       "| 2 | PSX000100013 | 2001-07-11 | V | 265 | 100000 | 29 days | 100000 |  48000 |\n",
       "| 3 | PSX000100073 | 2004-02-14 | V | 450 | 100000 | 24 days | 100000 |  35000 |\n",
       "| 4 | PSX000100081 | 2009-07-26 | T | 543 |      0 | 28 days |  50000 |  69000 |\n",
       "| 5 | PSX000100122 | 1991-09-08 | T | 200 | 150000 | 16 days | 150000 | 105000 |\n",
       "| 6 | PSX000100146 | 2009-04-21 | T | 275 | 100000 | 20 days | 100000 |  38000 |\n",
       "| 7 | PSX000100231 | 2008-05-05 | V | 405 | 400000 | 25 days | 400000 |  79155 |\n",
       "| 8 | PSX000100236 | 1970-10-06 | T | 469 | 250000 | 24 days | 250000 |  54738 |\n",
       "| 9 | PSX000100286 | 2003-03-20 | V | 337 | 150000 | 22 days | 150000 |  95973 |\n",
       "| 10 | PSX00010030  | 1980-01-09 | T | 377 | 350000 | 23 days | 350000 |  37725 |\n",
       "\n"
      ],
      "text/plain": [
       "   Cust_ID      Date       Type Reward_R Reward_A diff    Cov_Limit Income\n",
       "1  PSX000100006 2006-01-17 T    265       50000   17 days  50000     61000\n",
       "2  PSX000100013 2001-07-11 V    265      100000   29 days 100000     48000\n",
       "3  PSX000100073 2004-02-14 V    450      100000   24 days 100000     35000\n",
       "4  PSX000100081 2009-07-26 T    543           0   28 days  50000     69000\n",
       "5  PSX000100122 1991-09-08 T    200      150000   16 days 150000    105000\n",
       "6  PSX000100146 2009-04-21 T    275      100000   20 days 100000     38000\n",
       "7  PSX000100231 2008-05-05 V    405      400000   25 days 400000     79155\n",
       "8  PSX000100236 1970-10-06 T    469      250000   24 days 250000     54738\n",
       "9  PSX000100286 2003-03-20 V    337      150000   22 days 150000     95973\n",
       "10 PSX00010030  1980-01-09 T    377      350000   23 days 350000     37725"
      ]
     },
     "metadata": {},
     "output_type": "display_data"
    }
   ],
   "source": [
    "ins_feat <- merge(ins_time, ins_income)\n",
    "\n",
    "head(ins_feat, n = 10)"
   ]
  },
  {
   "cell_type": "code",
   "execution_count": 12,
   "id": "congressional-exclusive",
   "metadata": {},
   "outputs": [
    {
     "data": {
      "text/html": [
       "<table class=\"dataframe\">\n",
       "<caption>A data.frame: 10 × 9</caption>\n",
       "<thead>\n",
       "\t<tr><th></th><th scope=col>Cust_ID</th><th scope=col>Date</th><th scope=col>Type</th><th scope=col>Reward_R</th><th scope=col>Reward_A</th><th scope=col>diff</th><th scope=col>Cov_Limit</th><th scope=col>Income</th><th scope=col>Cov_Income_Ratio</th></tr>\n",
       "\t<tr><th></th><th scope=col>&lt;chr&gt;</th><th scope=col>&lt;date&gt;</th><th scope=col>&lt;chr&gt;</th><th scope=col>&lt;int&gt;</th><th scope=col>&lt;int&gt;</th><th scope=col>&lt;drtn&gt;</th><th scope=col>&lt;int&gt;</th><th scope=col>&lt;int&gt;</th><th scope=col>&lt;dbl&gt;</th></tr>\n",
       "</thead>\n",
       "<tbody>\n",
       "\t<tr><th scope=row>1</th><td>PSX000100006</td><td>2006-01-17</td><td>T</td><td>265</td><td> 50000</td><td>17 days</td><td> 50000</td><td> 61000</td><td>0.8196721</td></tr>\n",
       "\t<tr><th scope=row>2</th><td>PSX000100013</td><td>2001-07-11</td><td>V</td><td>265</td><td>100000</td><td>29 days</td><td>100000</td><td> 48000</td><td>2.0833333</td></tr>\n",
       "\t<tr><th scope=row>3</th><td>PSX000100073</td><td>2004-02-14</td><td>V</td><td>450</td><td>100000</td><td>24 days</td><td>100000</td><td> 35000</td><td>2.8571429</td></tr>\n",
       "\t<tr><th scope=row>4</th><td>PSX000100081</td><td>2009-07-26</td><td>T</td><td>543</td><td>     0</td><td>28 days</td><td> 50000</td><td> 69000</td><td>0.7246377</td></tr>\n",
       "\t<tr><th scope=row>5</th><td>PSX000100122</td><td>1991-09-08</td><td>T</td><td>200</td><td>150000</td><td>16 days</td><td>150000</td><td>105000</td><td>1.4285714</td></tr>\n",
       "\t<tr><th scope=row>6</th><td>PSX000100146</td><td>2009-04-21</td><td>T</td><td>275</td><td>100000</td><td>20 days</td><td>100000</td><td> 38000</td><td>2.6315789</td></tr>\n",
       "\t<tr><th scope=row>7</th><td>PSX000100231</td><td>2008-05-05</td><td>V</td><td>405</td><td>400000</td><td>25 days</td><td>400000</td><td> 79155</td><td>5.0533763</td></tr>\n",
       "\t<tr><th scope=row>8</th><td>PSX000100236</td><td>1970-10-06</td><td>T</td><td>469</td><td>250000</td><td>24 days</td><td>250000</td><td> 54738</td><td>4.5672111</td></tr>\n",
       "\t<tr><th scope=row>9</th><td>PSX000100286</td><td>2003-03-20</td><td>V</td><td>337</td><td>150000</td><td>22 days</td><td>150000</td><td> 95973</td><td>1.5629396</td></tr>\n",
       "\t<tr><th scope=row>10</th><td>PSX00010030 </td><td>1980-01-09</td><td>T</td><td>377</td><td>350000</td><td>23 days</td><td>350000</td><td> 37725</td><td>9.2776673</td></tr>\n",
       "</tbody>\n",
       "</table>\n"
      ],
      "text/latex": [
       "A data.frame: 10 × 9\n",
       "\\begin{tabular}{r|lllllllll}\n",
       "  & Cust\\_ID & Date & Type & Reward\\_R & Reward\\_A & diff & Cov\\_Limit & Income & Cov\\_Income\\_Ratio\\\\\n",
       "  & <chr> & <date> & <chr> & <int> & <int> & <drtn> & <int> & <int> & <dbl>\\\\\n",
       "\\hline\n",
       "\t1 & PSX000100006 & 2006-01-17 & T & 265 &  50000 & 17 days &  50000 &  61000 & 0.8196721\\\\\n",
       "\t2 & PSX000100013 & 2001-07-11 & V & 265 & 100000 & 29 days & 100000 &  48000 & 2.0833333\\\\\n",
       "\t3 & PSX000100073 & 2004-02-14 & V & 450 & 100000 & 24 days & 100000 &  35000 & 2.8571429\\\\\n",
       "\t4 & PSX000100081 & 2009-07-26 & T & 543 &      0 & 28 days &  50000 &  69000 & 0.7246377\\\\\n",
       "\t5 & PSX000100122 & 1991-09-08 & T & 200 & 150000 & 16 days & 150000 & 105000 & 1.4285714\\\\\n",
       "\t6 & PSX000100146 & 2009-04-21 & T & 275 & 100000 & 20 days & 100000 &  38000 & 2.6315789\\\\\n",
       "\t7 & PSX000100231 & 2008-05-05 & V & 405 & 400000 & 25 days & 400000 &  79155 & 5.0533763\\\\\n",
       "\t8 & PSX000100236 & 1970-10-06 & T & 469 & 250000 & 24 days & 250000 &  54738 & 4.5672111\\\\\n",
       "\t9 & PSX000100286 & 2003-03-20 & V & 337 & 150000 & 22 days & 150000 &  95973 & 1.5629396\\\\\n",
       "\t10 & PSX00010030  & 1980-01-09 & T & 377 & 350000 & 23 days & 350000 &  37725 & 9.2776673\\\\\n",
       "\\end{tabular}\n"
      ],
      "text/markdown": [
       "\n",
       "A data.frame: 10 × 9\n",
       "\n",
       "| <!--/--> | Cust_ID &lt;chr&gt; | Date &lt;date&gt; | Type &lt;chr&gt; | Reward_R &lt;int&gt; | Reward_A &lt;int&gt; | diff &lt;drtn&gt; | Cov_Limit &lt;int&gt; | Income &lt;int&gt; | Cov_Income_Ratio &lt;dbl&gt; |\n",
       "|---|---|---|---|---|---|---|---|---|---|\n",
       "| 1 | PSX000100006 | 2006-01-17 | T | 265 |  50000 | 17 days |  50000 |  61000 | 0.8196721 |\n",
       "| 2 | PSX000100013 | 2001-07-11 | V | 265 | 100000 | 29 days | 100000 |  48000 | 2.0833333 |\n",
       "| 3 | PSX000100073 | 2004-02-14 | V | 450 | 100000 | 24 days | 100000 |  35000 | 2.8571429 |\n",
       "| 4 | PSX000100081 | 2009-07-26 | T | 543 |      0 | 28 days |  50000 |  69000 | 0.7246377 |\n",
       "| 5 | PSX000100122 | 1991-09-08 | T | 200 | 150000 | 16 days | 150000 | 105000 | 1.4285714 |\n",
       "| 6 | PSX000100146 | 2009-04-21 | T | 275 | 100000 | 20 days | 100000 |  38000 | 2.6315789 |\n",
       "| 7 | PSX000100231 | 2008-05-05 | V | 405 | 400000 | 25 days | 400000 |  79155 | 5.0533763 |\n",
       "| 8 | PSX000100236 | 1970-10-06 | T | 469 | 250000 | 24 days | 250000 |  54738 | 4.5672111 |\n",
       "| 9 | PSX000100286 | 2003-03-20 | V | 337 | 150000 | 22 days | 150000 |  95973 | 1.5629396 |\n",
       "| 10 | PSX00010030  | 1980-01-09 | T | 377 | 350000 | 23 days | 350000 |  37725 | 9.2776673 |\n",
       "\n"
      ],
      "text/plain": [
       "   Cust_ID      Date       Type Reward_R Reward_A diff    Cov_Limit Income\n",
       "1  PSX000100006 2006-01-17 T    265       50000   17 days  50000     61000\n",
       "2  PSX000100013 2001-07-11 V    265      100000   29 days 100000     48000\n",
       "3  PSX000100073 2004-02-14 V    450      100000   24 days 100000     35000\n",
       "4  PSX000100081 2009-07-26 T    543           0   28 days  50000     69000\n",
       "5  PSX000100122 1991-09-08 T    200      150000   16 days 150000    105000\n",
       "6  PSX000100146 2009-04-21 T    275      100000   20 days 100000     38000\n",
       "7  PSX000100231 2008-05-05 V    405      400000   25 days 400000     79155\n",
       "8  PSX000100236 1970-10-06 T    469      250000   24 days 250000     54738\n",
       "9  PSX000100286 2003-03-20 V    337      150000   22 days 150000     95973\n",
       "10 PSX00010030  1980-01-09 T    377      350000   23 days 350000     37725\n",
       "   Cov_Income_Ratio\n",
       "1  0.8196721       \n",
       "2  2.0833333       \n",
       "3  2.8571429       \n",
       "4  0.7246377       \n",
       "5  1.4285714       \n",
       "6  2.6315789       \n",
       "7  5.0533763       \n",
       "8  4.5672111       \n",
       "9  1.5629396       \n",
       "10 9.2776673       "
      ]
     },
     "metadata": {},
     "output_type": "display_data"
    }
   ],
   "source": [
    "ins_feat$Cov_Income_Ratio <- ins_feat$Cov_Limit / ins_feat$Income\n",
    "\n",
    "head(ins_feat, n = 10)"
   ]
  },
  {
   "cell_type": "markdown",
   "id": "nutritional-finland",
   "metadata": {},
   "source": [
    "### Recency and Frequency"
   ]
  },
  {
   "cell_type": "markdown",
   "id": "royal-camera",
   "metadata": {},
   "source": [
    "We will look at recency and frequency one at a time. Let's start with recency. For ease of application, let's use all the differences in time for all customers to build our recency exponential distribution instead of building one per customer.\n",
    "\n",
    "Specifically, we will look at recency of changes in policy."
   ]
  },
  {
   "cell_type": "code",
   "execution_count": 13,
   "id": "functional-lebanon",
   "metadata": {},
   "outputs": [
    {
     "data": {
      "text/html": [
       "<table class=\"dataframe\">\n",
       "<caption>A data.frame: 10 × 9</caption>\n",
       "<thead>\n",
       "\t<tr><th></th><th scope=col>Date</th><th scope=col>Cust_ID</th><th scope=col>Transaction</th><th scope=col>Type</th><th scope=col>Reward_R</th><th scope=col>Reward_A</th><th scope=col>Cov_Limit</th><th scope=col>Income</th><th scope=col>diff</th></tr>\n",
       "\t<tr><th></th><th scope=col>&lt;date&gt;</th><th scope=col>&lt;chr&gt;</th><th scope=col>&lt;chr&gt;</th><th scope=col>&lt;chr&gt;</th><th scope=col>&lt;int&gt;</th><th scope=col>&lt;int&gt;</th><th scope=col>&lt;int&gt;</th><th scope=col>&lt;int&gt;</th><th scope=col>&lt;drtn&gt;</th></tr>\n",
       "</thead>\n",
       "<tbody>\n",
       "\t<tr><th scope=row>1</th><td>1986-04-16</td><td>PSX000100058</td><td>CH</td><td>T</td><td>NA</td><td>NA</td><td>250000</td><td>130280</td><td>3958 days</td></tr>\n",
       "\t<tr><th scope=row>2</th><td>1997-08-30</td><td>PSX000100140</td><td>CH</td><td>W</td><td>NA</td><td>NA</td><td>150000</td><td> 87073</td><td>2440 days</td></tr>\n",
       "\t<tr><th scope=row>3</th><td>2007-10-26</td><td>PSX000100167</td><td>CH</td><td>V</td><td>NA</td><td>NA</td><td>300000</td><td> 63041</td><td>7455 days</td></tr>\n",
       "\t<tr><th scope=row>4</th><td>2008-11-20</td><td>PSX000100167</td><td>CH</td><td>V</td><td>NA</td><td>NA</td><td>350000</td><td> 66722</td><td> 391 days</td></tr>\n",
       "\t<tr><th scope=row>5</th><td>2010-10-03</td><td>PSX000100167</td><td>CH</td><td>V</td><td>NA</td><td>NA</td><td>550000</td><td> 68743</td><td> 682 days</td></tr>\n",
       "\t<tr><th scope=row>6</th><td>1996-11-17</td><td>PSX000100168</td><td>CH</td><td>W</td><td>NA</td><td>NA</td><td>350000</td><td> 68371</td><td>3160 days</td></tr>\n",
       "\t<tr><th scope=row>7</th><td>1998-03-13</td><td>PSX000100168</td><td>CH</td><td>W</td><td>NA</td><td>NA</td><td>500000</td><td> 82691</td><td> 481 days</td></tr>\n",
       "\t<tr><th scope=row>8</th><td>2012-03-02</td><td>PSX000100217</td><td>CH</td><td>V</td><td>NA</td><td>NA</td><td>300000</td><td> 43560</td><td>8420 days</td></tr>\n",
       "\t<tr><th scope=row>9</th><td>1983-04-06</td><td>PSX000100231</td><td>CH</td><td>V</td><td>NA</td><td>NA</td><td>300000</td><td> 75657</td><td>3412 days</td></tr>\n",
       "\t<tr><th scope=row>10</th><td>2006-09-16</td><td>PSX000100231</td><td>CH</td><td>V</td><td>NA</td><td>NA</td><td>400000</td><td> 79155</td><td>8564 days</td></tr>\n",
       "</tbody>\n",
       "</table>\n"
      ],
      "text/latex": [
       "A data.frame: 10 × 9\n",
       "\\begin{tabular}{r|lllllllll}\n",
       "  & Date & Cust\\_ID & Transaction & Type & Reward\\_R & Reward\\_A & Cov\\_Limit & Income & diff\\\\\n",
       "  & <date> & <chr> & <chr> & <chr> & <int> & <int> & <int> & <int> & <drtn>\\\\\n",
       "\\hline\n",
       "\t1 & 1986-04-16 & PSX000100058 & CH & T & NA & NA & 250000 & 130280 & 3958 days\\\\\n",
       "\t2 & 1997-08-30 & PSX000100140 & CH & W & NA & NA & 150000 &  87073 & 2440 days\\\\\n",
       "\t3 & 2007-10-26 & PSX000100167 & CH & V & NA & NA & 300000 &  63041 & 7455 days\\\\\n",
       "\t4 & 2008-11-20 & PSX000100167 & CH & V & NA & NA & 350000 &  66722 &  391 days\\\\\n",
       "\t5 & 2010-10-03 & PSX000100167 & CH & V & NA & NA & 550000 &  68743 &  682 days\\\\\n",
       "\t6 & 1996-11-17 & PSX000100168 & CH & W & NA & NA & 350000 &  68371 & 3160 days\\\\\n",
       "\t7 & 1998-03-13 & PSX000100168 & CH & W & NA & NA & 500000 &  82691 &  481 days\\\\\n",
       "\t8 & 2012-03-02 & PSX000100217 & CH & V & NA & NA & 300000 &  43560 & 8420 days\\\\\n",
       "\t9 & 1983-04-06 & PSX000100231 & CH & V & NA & NA & 300000 &  75657 & 3412 days\\\\\n",
       "\t10 & 2006-09-16 & PSX000100231 & CH & V & NA & NA & 400000 &  79155 & 8564 days\\\\\n",
       "\\end{tabular}\n"
      ],
      "text/markdown": [
       "\n",
       "A data.frame: 10 × 9\n",
       "\n",
       "| <!--/--> | Date &lt;date&gt; | Cust_ID &lt;chr&gt; | Transaction &lt;chr&gt; | Type &lt;chr&gt; | Reward_R &lt;int&gt; | Reward_A &lt;int&gt; | Cov_Limit &lt;int&gt; | Income &lt;int&gt; | diff &lt;drtn&gt; |\n",
       "|---|---|---|---|---|---|---|---|---|---|\n",
       "| 1 | 1986-04-16 | PSX000100058 | CH | T | NA | NA | 250000 | 130280 | 3958 days |\n",
       "| 2 | 1997-08-30 | PSX000100140 | CH | W | NA | NA | 150000 |  87073 | 2440 days |\n",
       "| 3 | 2007-10-26 | PSX000100167 | CH | V | NA | NA | 300000 |  63041 | 7455 days |\n",
       "| 4 | 2008-11-20 | PSX000100167 | CH | V | NA | NA | 350000 |  66722 |  391 days |\n",
       "| 5 | 2010-10-03 | PSX000100167 | CH | V | NA | NA | 550000 |  68743 |  682 days |\n",
       "| 6 | 1996-11-17 | PSX000100168 | CH | W | NA | NA | 350000 |  68371 | 3160 days |\n",
       "| 7 | 1998-03-13 | PSX000100168 | CH | W | NA | NA | 500000 |  82691 |  481 days |\n",
       "| 8 | 2012-03-02 | PSX000100217 | CH | V | NA | NA | 300000 |  43560 | 8420 days |\n",
       "| 9 | 1983-04-06 | PSX000100231 | CH | V | NA | NA | 300000 |  75657 | 3412 days |\n",
       "| 10 | 2006-09-16 | PSX000100231 | CH | V | NA | NA | 400000 |  79155 | 8564 days |\n",
       "\n"
      ],
      "text/plain": [
       "   Date       Cust_ID      Transaction Type Reward_R Reward_A Cov_Limit Income\n",
       "1  1986-04-16 PSX000100058 CH          T    NA       NA       250000    130280\n",
       "2  1997-08-30 PSX000100140 CH          W    NA       NA       150000     87073\n",
       "3  2007-10-26 PSX000100167 CH          V    NA       NA       300000     63041\n",
       "4  2008-11-20 PSX000100167 CH          V    NA       NA       350000     66722\n",
       "5  2010-10-03 PSX000100167 CH          V    NA       NA       550000     68743\n",
       "6  1996-11-17 PSX000100168 CH          W    NA       NA       350000     68371\n",
       "7  1998-03-13 PSX000100168 CH          W    NA       NA       500000     82691\n",
       "8  2012-03-02 PSX000100217 CH          V    NA       NA       300000     43560\n",
       "9  1983-04-06 PSX000100231 CH          V    NA       NA       300000     75657\n",
       "10 2006-09-16 PSX000100231 CH          V    NA       NA       400000     79155\n",
       "   diff     \n",
       "1  3958 days\n",
       "2  2440 days\n",
       "3  7455 days\n",
       "4   391 days\n",
       "5   682 days\n",
       "6  3160 days\n",
       "7   481 days\n",
       "8  8420 days\n",
       "9  3412 days\n",
       "10 8564 days"
      ]
     },
     "metadata": {},
     "output_type": "display_data"
    }
   ],
   "source": [
    "ins_rec <- ins\n",
    "\n",
    "ins_rec$diff <- ins_rec$Date - lag(ins_rec$Date)\n",
    "\n",
    "ins_rec <- ins_rec %>% filter(Transaction == 'CH')\n",
    "\n",
    "head(ins_rec, n = 10)"
   ]
  },
  {
   "cell_type": "code",
   "execution_count": 14,
   "id": "similar-bhutan",
   "metadata": {},
   "outputs": [
    {
     "data": {
      "text/html": [
       "<strong>rate:</strong> 0.00025397785840307"
      ],
      "text/latex": [
       "\\textbf{rate:} 0.00025397785840307"
      ],
      "text/markdown": [
       "**rate:** 0.00025397785840307"
      ],
      "text/plain": [
       "        rate \n",
       "0.0002539779 "
      ]
     },
     "metadata": {},
     "output_type": "display_data"
    }
   ],
   "source": [
    "exp_rec <- fitdistr(as.numeric(ins_rec$diff), \"exponential\")\n",
    "exp_rec$estimate"
   ]
  },
  {
   "cell_type": "code",
   "execution_count": 15,
   "id": "exciting-arthur",
   "metadata": {},
   "outputs": [
    {
     "data": {
      "text/html": [
       "<table class=\"dataframe\">\n",
       "<caption>A data.frame: 10 × 10</caption>\n",
       "<thead>\n",
       "\t<tr><th></th><th scope=col>Date</th><th scope=col>Cust_ID</th><th scope=col>Transaction</th><th scope=col>Type</th><th scope=col>Reward_R</th><th scope=col>Reward_A</th><th scope=col>Cov_Limit</th><th scope=col>Income</th><th scope=col>diff</th><th scope=col>rec</th></tr>\n",
       "\t<tr><th></th><th scope=col>&lt;date&gt;</th><th scope=col>&lt;chr&gt;</th><th scope=col>&lt;chr&gt;</th><th scope=col>&lt;chr&gt;</th><th scope=col>&lt;int&gt;</th><th scope=col>&lt;int&gt;</th><th scope=col>&lt;int&gt;</th><th scope=col>&lt;int&gt;</th><th scope=col>&lt;drtn&gt;</th><th scope=col>&lt;dbl&gt;</th></tr>\n",
       "</thead>\n",
       "<tbody>\n",
       "\t<tr><th scope=row>1</th><td>1986-04-16</td><td>PSX000100058</td><td>CH</td><td>T</td><td>NA</td><td>NA</td><td>250000</td><td>130280</td><td>3958 days</td><td>0.3659552</td></tr>\n",
       "\t<tr><th scope=row>2</th><td>1997-08-30</td><td>PSX000100140</td><td>CH</td><td>W</td><td>NA</td><td>NA</td><td>150000</td><td> 87073</td><td>2440 days</td><td>0.5381026</td></tr>\n",
       "\t<tr><th scope=row>3</th><td>2007-10-26</td><td>PSX000100167</td><td>CH</td><td>V</td><td>NA</td><td>NA</td><td>300000</td><td> 63041</td><td>7455 days</td><td>0.1505583</td></tr>\n",
       "\t<tr><th scope=row>4</th><td>2008-11-20</td><td>PSX000100167</td><td>CH</td><td>V</td><td>NA</td><td>NA</td><td>350000</td><td> 66722</td><td> 391 days</td><td>0.9054662</td></tr>\n",
       "\t<tr><th scope=row>5</th><td>2010-10-03</td><td>PSX000100167</td><td>CH</td><td>V</td><td>NA</td><td>NA</td><td>550000</td><td> 68743</td><td> 682 days</td><td>0.8409586</td></tr>\n",
       "\t<tr><th scope=row>6</th><td>1996-11-17</td><td>PSX000100168</td><td>CH</td><td>W</td><td>NA</td><td>NA</td><td>350000</td><td> 68371</td><td>3160 days</td><td>0.4481757</td></tr>\n",
       "\t<tr><th scope=row>7</th><td>1998-03-13</td><td>PSX000100168</td><td>CH</td><td>W</td><td>NA</td><td>NA</td><td>500000</td><td> 82691</td><td> 481 days</td><td>0.8850038</td></tr>\n",
       "\t<tr><th scope=row>8</th><td>2012-03-02</td><td>PSX000100217</td><td>CH</td><td>V</td><td>NA</td><td>NA</td><td>300000</td><td> 43560</td><td>8420 days</td><td>0.1178322</td></tr>\n",
       "\t<tr><th scope=row>9</th><td>1983-04-06</td><td>PSX000100231</td><td>CH</td><td>V</td><td>NA</td><td>NA</td><td>300000</td><td> 75657</td><td>3412 days</td><td>0.4203900</td></tr>\n",
       "\t<tr><th scope=row>10</th><td>2006-09-16</td><td>PSX000100231</td><td>CH</td><td>V</td><td>NA</td><td>NA</td><td>400000</td><td> 79155</td><td>8564 days</td><td>0.1136006</td></tr>\n",
       "</tbody>\n",
       "</table>\n"
      ],
      "text/latex": [
       "A data.frame: 10 × 10\n",
       "\\begin{tabular}{r|llllllllll}\n",
       "  & Date & Cust\\_ID & Transaction & Type & Reward\\_R & Reward\\_A & Cov\\_Limit & Income & diff & rec\\\\\n",
       "  & <date> & <chr> & <chr> & <chr> & <int> & <int> & <int> & <int> & <drtn> & <dbl>\\\\\n",
       "\\hline\n",
       "\t1 & 1986-04-16 & PSX000100058 & CH & T & NA & NA & 250000 & 130280 & 3958 days & 0.3659552\\\\\n",
       "\t2 & 1997-08-30 & PSX000100140 & CH & W & NA & NA & 150000 &  87073 & 2440 days & 0.5381026\\\\\n",
       "\t3 & 2007-10-26 & PSX000100167 & CH & V & NA & NA & 300000 &  63041 & 7455 days & 0.1505583\\\\\n",
       "\t4 & 2008-11-20 & PSX000100167 & CH & V & NA & NA & 350000 &  66722 &  391 days & 0.9054662\\\\\n",
       "\t5 & 2010-10-03 & PSX000100167 & CH & V & NA & NA & 550000 &  68743 &  682 days & 0.8409586\\\\\n",
       "\t6 & 1996-11-17 & PSX000100168 & CH & W & NA & NA & 350000 &  68371 & 3160 days & 0.4481757\\\\\n",
       "\t7 & 1998-03-13 & PSX000100168 & CH & W & NA & NA & 500000 &  82691 &  481 days & 0.8850038\\\\\n",
       "\t8 & 2012-03-02 & PSX000100217 & CH & V & NA & NA & 300000 &  43560 & 8420 days & 0.1178322\\\\\n",
       "\t9 & 1983-04-06 & PSX000100231 & CH & V & NA & NA & 300000 &  75657 & 3412 days & 0.4203900\\\\\n",
       "\t10 & 2006-09-16 & PSX000100231 & CH & V & NA & NA & 400000 &  79155 & 8564 days & 0.1136006\\\\\n",
       "\\end{tabular}\n"
      ],
      "text/markdown": [
       "\n",
       "A data.frame: 10 × 10\n",
       "\n",
       "| <!--/--> | Date &lt;date&gt; | Cust_ID &lt;chr&gt; | Transaction &lt;chr&gt; | Type &lt;chr&gt; | Reward_R &lt;int&gt; | Reward_A &lt;int&gt; | Cov_Limit &lt;int&gt; | Income &lt;int&gt; | diff &lt;drtn&gt; | rec &lt;dbl&gt; |\n",
       "|---|---|---|---|---|---|---|---|---|---|---|\n",
       "| 1 | 1986-04-16 | PSX000100058 | CH | T | NA | NA | 250000 | 130280 | 3958 days | 0.3659552 |\n",
       "| 2 | 1997-08-30 | PSX000100140 | CH | W | NA | NA | 150000 |  87073 | 2440 days | 0.5381026 |\n",
       "| 3 | 2007-10-26 | PSX000100167 | CH | V | NA | NA | 300000 |  63041 | 7455 days | 0.1505583 |\n",
       "| 4 | 2008-11-20 | PSX000100167 | CH | V | NA | NA | 350000 |  66722 |  391 days | 0.9054662 |\n",
       "| 5 | 2010-10-03 | PSX000100167 | CH | V | NA | NA | 550000 |  68743 |  682 days | 0.8409586 |\n",
       "| 6 | 1996-11-17 | PSX000100168 | CH | W | NA | NA | 350000 |  68371 | 3160 days | 0.4481757 |\n",
       "| 7 | 1998-03-13 | PSX000100168 | CH | W | NA | NA | 500000 |  82691 |  481 days | 0.8850038 |\n",
       "| 8 | 2012-03-02 | PSX000100217 | CH | V | NA | NA | 300000 |  43560 | 8420 days | 0.1178322 |\n",
       "| 9 | 1983-04-06 | PSX000100231 | CH | V | NA | NA | 300000 |  75657 | 3412 days | 0.4203900 |\n",
       "| 10 | 2006-09-16 | PSX000100231 | CH | V | NA | NA | 400000 |  79155 | 8564 days | 0.1136006 |\n",
       "\n"
      ],
      "text/plain": [
       "   Date       Cust_ID      Transaction Type Reward_R Reward_A Cov_Limit Income\n",
       "1  1986-04-16 PSX000100058 CH          T    NA       NA       250000    130280\n",
       "2  1997-08-30 PSX000100140 CH          W    NA       NA       150000     87073\n",
       "3  2007-10-26 PSX000100167 CH          V    NA       NA       300000     63041\n",
       "4  2008-11-20 PSX000100167 CH          V    NA       NA       350000     66722\n",
       "5  2010-10-03 PSX000100167 CH          V    NA       NA       550000     68743\n",
       "6  1996-11-17 PSX000100168 CH          W    NA       NA       350000     68371\n",
       "7  1998-03-13 PSX000100168 CH          W    NA       NA       500000     82691\n",
       "8  2012-03-02 PSX000100217 CH          V    NA       NA       300000     43560\n",
       "9  1983-04-06 PSX000100231 CH          V    NA       NA       300000     75657\n",
       "10 2006-09-16 PSX000100231 CH          V    NA       NA       400000     79155\n",
       "   diff      rec      \n",
       "1  3958 days 0.3659552\n",
       "2  2440 days 0.5381026\n",
       "3  7455 days 0.1505583\n",
       "4   391 days 0.9054662\n",
       "5   682 days 0.8409586\n",
       "6  3160 days 0.4481757\n",
       "7   481 days 0.8850038\n",
       "8  8420 days 0.1178322\n",
       "9  3412 days 0.4203900\n",
       "10 8564 days 0.1136006"
      ]
     },
     "metadata": {},
     "output_type": "display_data"
    }
   ],
   "source": [
    "ins_rec$rec <- exp(-exp_rec$estimate*as.numeric(ins_rec$diff))\n",
    "\n",
    "head(ins_rec, n = 10)"
   ]
  },
  {
   "cell_type": "code",
   "execution_count": 16,
   "id": "eight-corruption",
   "metadata": {},
   "outputs": [
    {
     "name": "stderr",
     "output_type": "stream",
     "text": [
      "`summarise()` ungrouping output (override with `.groups` argument)\n",
      "\n"
     ]
    },
    {
     "data": {
      "text/html": [
       "<table class=\"dataframe\">\n",
       "<caption>A tibble: 10 × 2</caption>\n",
       "<thead>\n",
       "\t<tr><th scope=col>Cust_ID</th><th scope=col>rec_avg</th></tr>\n",
       "\t<tr><th scope=col>&lt;chr&gt;</th><th scope=col>&lt;dbl&gt;</th></tr>\n",
       "</thead>\n",
       "<tbody>\n",
       "\t<tr><td>PSX000100058</td><td>0.3659552</td></tr>\n",
       "\t<tr><td>PSX000100140</td><td>0.5381026</td></tr>\n",
       "\t<tr><td>PSX000100167</td><td>0.6323277</td></tr>\n",
       "\t<tr><td>PSX000100168</td><td>0.6665897</td></tr>\n",
       "\t<tr><td>PSX000100217</td><td>0.1178322</td></tr>\n",
       "\t<tr><td>PSX000100231</td><td>0.2669953</td></tr>\n",
       "\t<tr><td>PSX000100234</td><td>0.2088202</td></tr>\n",
       "\t<tr><td>PSX000100236</td><td>0.4698555</td></tr>\n",
       "\t<tr><td>PSX000100286</td><td>0.4532121</td></tr>\n",
       "\t<tr><td>PSX00010030 </td><td>0.6928110</td></tr>\n",
       "</tbody>\n",
       "</table>\n"
      ],
      "text/latex": [
       "A tibble: 10 × 2\n",
       "\\begin{tabular}{ll}\n",
       " Cust\\_ID & rec\\_avg\\\\\n",
       " <chr> & <dbl>\\\\\n",
       "\\hline\n",
       "\t PSX000100058 & 0.3659552\\\\\n",
       "\t PSX000100140 & 0.5381026\\\\\n",
       "\t PSX000100167 & 0.6323277\\\\\n",
       "\t PSX000100168 & 0.6665897\\\\\n",
       "\t PSX000100217 & 0.1178322\\\\\n",
       "\t PSX000100231 & 0.2669953\\\\\n",
       "\t PSX000100234 & 0.2088202\\\\\n",
       "\t PSX000100236 & 0.4698555\\\\\n",
       "\t PSX000100286 & 0.4532121\\\\\n",
       "\t PSX00010030  & 0.6928110\\\\\n",
       "\\end{tabular}\n"
      ],
      "text/markdown": [
       "\n",
       "A tibble: 10 × 2\n",
       "\n",
       "| Cust_ID &lt;chr&gt; | rec_avg &lt;dbl&gt; |\n",
       "|---|---|\n",
       "| PSX000100058 | 0.3659552 |\n",
       "| PSX000100140 | 0.5381026 |\n",
       "| PSX000100167 | 0.6323277 |\n",
       "| PSX000100168 | 0.6665897 |\n",
       "| PSX000100217 | 0.1178322 |\n",
       "| PSX000100231 | 0.2669953 |\n",
       "| PSX000100234 | 0.2088202 |\n",
       "| PSX000100236 | 0.4698555 |\n",
       "| PSX000100286 | 0.4532121 |\n",
       "| PSX00010030  | 0.6928110 |\n",
       "\n"
      ],
      "text/plain": [
       "   Cust_ID      rec_avg  \n",
       "1  PSX000100058 0.3659552\n",
       "2  PSX000100140 0.5381026\n",
       "3  PSX000100167 0.6323277\n",
       "4  PSX000100168 0.6665897\n",
       "5  PSX000100217 0.1178322\n",
       "6  PSX000100231 0.2669953\n",
       "7  PSX000100234 0.2088202\n",
       "8  PSX000100236 0.4698555\n",
       "9  PSX000100286 0.4532121\n",
       "10 PSX00010030  0.6928110"
      ]
     },
     "metadata": {},
     "output_type": "display_data"
    }
   ],
   "source": [
    "ins_rec <- ins_rec %>% group_by(Cust_ID) %>% summarise(rec_avg = mean(rec))\n",
    "\n",
    "head(ins_rec, n = 10)"
   ]
  },
  {
   "cell_type": "markdown",
   "id": "anticipated-gentleman",
   "metadata": {},
   "source": [
    "For our data, frequency of changes in policy might also be a flag of fraud. "
   ]
  },
  {
   "cell_type": "code",
   "execution_count": 17,
   "id": "compound-balloon",
   "metadata": {
    "scrolled": true
   },
   "outputs": [
    {
     "data": {
      "text/html": [
       "<table class=\"dataframe\">\n",
       "<caption>A grouped_df: 10 × 3</caption>\n",
       "<thead>\n",
       "\t<tr><th scope=col>Cust_ID</th><th scope=col>Transaction == \"CH\"</th><th scope=col>n</th></tr>\n",
       "\t<tr><th scope=col>&lt;chr&gt;</th><th scope=col>&lt;lgl&gt;</th><th scope=col>&lt;int&gt;</th></tr>\n",
       "</thead>\n",
       "<tbody>\n",
       "\t<tr><td>PSX000100006</td><td>FALSE</td><td>3</td></tr>\n",
       "\t<tr><td>PSX000100010</td><td>FALSE</td><td>1</td></tr>\n",
       "\t<tr><td>PSX000100013</td><td>FALSE</td><td>3</td></tr>\n",
       "\t<tr><td>PSX000100016</td><td>FALSE</td><td>1</td></tr>\n",
       "\t<tr><td>PSX000100027</td><td>FALSE</td><td>1</td></tr>\n",
       "\t<tr><td>PSX000100037</td><td>FALSE</td><td>1</td></tr>\n",
       "\t<tr><td>PSX000100058</td><td>FALSE</td><td>1</td></tr>\n",
       "\t<tr><td>PSX000100058</td><td> TRUE</td><td>1</td></tr>\n",
       "\t<tr><td>PSX00010006 </td><td>FALSE</td><td>1</td></tr>\n",
       "\t<tr><td>PSX000100073</td><td>FALSE</td><td>3</td></tr>\n",
       "</tbody>\n",
       "</table>\n"
      ],
      "text/latex": [
       "A grouped\\_df: 10 × 3\n",
       "\\begin{tabular}{lll}\n",
       " Cust\\_ID & Transaction == \"CH\" & n\\\\\n",
       " <chr> & <lgl> & <int>\\\\\n",
       "\\hline\n",
       "\t PSX000100006 & FALSE & 3\\\\\n",
       "\t PSX000100010 & FALSE & 1\\\\\n",
       "\t PSX000100013 & FALSE & 3\\\\\n",
       "\t PSX000100016 & FALSE & 1\\\\\n",
       "\t PSX000100027 & FALSE & 1\\\\\n",
       "\t PSX000100037 & FALSE & 1\\\\\n",
       "\t PSX000100058 & FALSE & 1\\\\\n",
       "\t PSX000100058 &  TRUE & 1\\\\\n",
       "\t PSX00010006  & FALSE & 1\\\\\n",
       "\t PSX000100073 & FALSE & 3\\\\\n",
       "\\end{tabular}\n"
      ],
      "text/markdown": [
       "\n",
       "A grouped_df: 10 × 3\n",
       "\n",
       "| Cust_ID &lt;chr&gt; | Transaction == \"CH\" &lt;lgl&gt; | n &lt;int&gt; |\n",
       "|---|---|---|\n",
       "| PSX000100006 | FALSE | 3 |\n",
       "| PSX000100010 | FALSE | 1 |\n",
       "| PSX000100013 | FALSE | 3 |\n",
       "| PSX000100016 | FALSE | 1 |\n",
       "| PSX000100027 | FALSE | 1 |\n",
       "| PSX000100037 | FALSE | 1 |\n",
       "| PSX000100058 | FALSE | 1 |\n",
       "| PSX000100058 |  TRUE | 1 |\n",
       "| PSX00010006  | FALSE | 1 |\n",
       "| PSX000100073 | FALSE | 3 |\n",
       "\n"
      ],
      "text/plain": [
       "   Cust_ID      Transaction == \"CH\" n\n",
       "1  PSX000100006 FALSE               3\n",
       "2  PSX000100010 FALSE               1\n",
       "3  PSX000100013 FALSE               3\n",
       "4  PSX000100016 FALSE               1\n",
       "5  PSX000100027 FALSE               1\n",
       "6  PSX000100037 FALSE               1\n",
       "7  PSX000100058 FALSE               1\n",
       "8  PSX000100058  TRUE               1\n",
       "9  PSX00010006  FALSE               1\n",
       "10 PSX000100073 FALSE               3"
      ]
     },
     "metadata": {},
     "output_type": "display_data"
    },
    {
     "data": {
      "text/html": [
       "<table class=\"dataframe\">\n",
       "<caption>A grouped_df: 10 × 3</caption>\n",
       "<thead>\n",
       "\t<tr><th scope=col>Cust_ID</th><th scope=col>Transaction == \"CH\"</th><th scope=col>n</th></tr>\n",
       "\t<tr><th scope=col>&lt;chr&gt;</th><th scope=col>&lt;lgl&gt;</th><th scope=col>&lt;int&gt;</th></tr>\n",
       "</thead>\n",
       "<tbody>\n",
       "\t<tr><td>PSX000704539</td><td>TRUE</td><td>18</td></tr>\n",
       "\t<tr><td>PSX000602071</td><td>TRUE</td><td>16</td></tr>\n",
       "\t<tr><td>PSX00096928 </td><td>TRUE</td><td>16</td></tr>\n",
       "\t<tr><td>PSX000842653</td><td>TRUE</td><td>15</td></tr>\n",
       "\t<tr><td>PSX000112259</td><td>TRUE</td><td>14</td></tr>\n",
       "\t<tr><td>PSX00025304 </td><td>TRUE</td><td>14</td></tr>\n",
       "\t<tr><td>PSX000375963</td><td>TRUE</td><td>14</td></tr>\n",
       "\t<tr><td>PSX000474725</td><td>TRUE</td><td>14</td></tr>\n",
       "\t<tr><td>PSX000114055</td><td>TRUE</td><td>13</td></tr>\n",
       "\t<tr><td>PSX000316415</td><td>TRUE</td><td>13</td></tr>\n",
       "</tbody>\n",
       "</table>\n"
      ],
      "text/latex": [
       "A grouped\\_df: 10 × 3\n",
       "\\begin{tabular}{lll}\n",
       " Cust\\_ID & Transaction == \"CH\" & n\\\\\n",
       " <chr> & <lgl> & <int>\\\\\n",
       "\\hline\n",
       "\t PSX000704539 & TRUE & 18\\\\\n",
       "\t PSX000602071 & TRUE & 16\\\\\n",
       "\t PSX00096928  & TRUE & 16\\\\\n",
       "\t PSX000842653 & TRUE & 15\\\\\n",
       "\t PSX000112259 & TRUE & 14\\\\\n",
       "\t PSX00025304  & TRUE & 14\\\\\n",
       "\t PSX000375963 & TRUE & 14\\\\\n",
       "\t PSX000474725 & TRUE & 14\\\\\n",
       "\t PSX000114055 & TRUE & 13\\\\\n",
       "\t PSX000316415 & TRUE & 13\\\\\n",
       "\\end{tabular}\n"
      ],
      "text/markdown": [
       "\n",
       "A grouped_df: 10 × 3\n",
       "\n",
       "| Cust_ID &lt;chr&gt; | Transaction == \"CH\" &lt;lgl&gt; | n &lt;int&gt; |\n",
       "|---|---|---|\n",
       "| PSX000704539 | TRUE | 18 |\n",
       "| PSX000602071 | TRUE | 16 |\n",
       "| PSX00096928  | TRUE | 16 |\n",
       "| PSX000842653 | TRUE | 15 |\n",
       "| PSX000112259 | TRUE | 14 |\n",
       "| PSX00025304  | TRUE | 14 |\n",
       "| PSX000375963 | TRUE | 14 |\n",
       "| PSX000474725 | TRUE | 14 |\n",
       "| PSX000114055 | TRUE | 13 |\n",
       "| PSX000316415 | TRUE | 13 |\n",
       "\n"
      ],
      "text/plain": [
       "   Cust_ID      Transaction == \"CH\" n \n",
       "1  PSX000704539 TRUE                18\n",
       "2  PSX000602071 TRUE                16\n",
       "3  PSX00096928  TRUE                16\n",
       "4  PSX000842653 TRUE                15\n",
       "5  PSX000112259 TRUE                14\n",
       "6  PSX00025304  TRUE                14\n",
       "7  PSX000375963 TRUE                14\n",
       "8  PSX000474725 TRUE                14\n",
       "9  PSX000114055 TRUE                13\n",
       "10 PSX000316415 TRUE                13"
      ]
     },
     "metadata": {},
     "output_type": "display_data"
    }
   ],
   "source": [
    "ins_changes <- ins %>% group_by(Cust_ID) %>% count(Transaction == 'CH')\n",
    "\n",
    "head(ins_changes, n = 10)\n",
    "\n",
    "head(ins_changes[order(-ins_changes$n),], n = 10)"
   ]
  },
  {
   "cell_type": "code",
   "execution_count": 18,
   "id": "instructional-petroleum",
   "metadata": {},
   "outputs": [
    {
     "data": {
      "text/html": [
       "<table class=\"dataframe\">\n",
       "<caption>A grouped_df: 10 × 4</caption>\n",
       "<thead>\n",
       "\t<tr><th scope=col>Cust_ID</th><th scope=col>Transaction == \"CH\"</th><th scope=col>n</th><th scope=col>num_changes</th></tr>\n",
       "\t<tr><th scope=col>&lt;chr&gt;</th><th scope=col>&lt;lgl&gt;</th><th scope=col>&lt;int&gt;</th><th scope=col>&lt;dbl[,1]&gt;</th></tr>\n",
       "</thead>\n",
       "<tbody>\n",
       "\t<tr><td>PSX000100006</td><td>FALSE</td><td>3</td><td>0</td></tr>\n",
       "\t<tr><td>PSX000100010</td><td>FALSE</td><td>1</td><td>0</td></tr>\n",
       "\t<tr><td>PSX000100013</td><td>FALSE</td><td>3</td><td>0</td></tr>\n",
       "\t<tr><td>PSX000100016</td><td>FALSE</td><td>1</td><td>0</td></tr>\n",
       "\t<tr><td>PSX000100027</td><td>FALSE</td><td>1</td><td>0</td></tr>\n",
       "\t<tr><td>PSX000100037</td><td>FALSE</td><td>1</td><td>0</td></tr>\n",
       "\t<tr><td>PSX000100058</td><td>FALSE</td><td>1</td><td>0</td></tr>\n",
       "\t<tr><td>PSX000100058</td><td> TRUE</td><td>1</td><td>1</td></tr>\n",
       "\t<tr><td>PSX00010006 </td><td>FALSE</td><td>1</td><td>0</td></tr>\n",
       "\t<tr><td>PSX000100073</td><td>FALSE</td><td>3</td><td>0</td></tr>\n",
       "</tbody>\n",
       "</table>\n"
      ],
      "text/latex": [
       "A grouped\\_df: 10 × 4\n",
       "\\begin{tabular}{llll}\n",
       " Cust\\_ID & Transaction == \"CH\" & n & num\\_changes\\\\\n",
       " <chr> & <lgl> & <int> & <dbl{[},1{]}>\\\\\n",
       "\\hline\n",
       "\t PSX000100006 & FALSE & 3 & 0\\\\\n",
       "\t PSX000100010 & FALSE & 1 & 0\\\\\n",
       "\t PSX000100013 & FALSE & 3 & 0\\\\\n",
       "\t PSX000100016 & FALSE & 1 & 0\\\\\n",
       "\t PSX000100027 & FALSE & 1 & 0\\\\\n",
       "\t PSX000100037 & FALSE & 1 & 0\\\\\n",
       "\t PSX000100058 & FALSE & 1 & 0\\\\\n",
       "\t PSX000100058 &  TRUE & 1 & 1\\\\\n",
       "\t PSX00010006  & FALSE & 1 & 0\\\\\n",
       "\t PSX000100073 & FALSE & 3 & 0\\\\\n",
       "\\end{tabular}\n"
      ],
      "text/markdown": [
       "\n",
       "A grouped_df: 10 × 4\n",
       "\n",
       "| Cust_ID &lt;chr&gt; | Transaction == \"CH\" &lt;lgl&gt; | n &lt;int&gt; | num_changes &lt;dbl[,1]&gt; |\n",
       "|---|---|---|---|\n",
       "| PSX000100006 | FALSE | 3 | 0 |\n",
       "| PSX000100010 | FALSE | 1 | 0 |\n",
       "| PSX000100013 | FALSE | 3 | 0 |\n",
       "| PSX000100016 | FALSE | 1 | 0 |\n",
       "| PSX000100027 | FALSE | 1 | 0 |\n",
       "| PSX000100037 | FALSE | 1 | 0 |\n",
       "| PSX000100058 | FALSE | 1 | 0 |\n",
       "| PSX000100058 |  TRUE | 1 | 1 |\n",
       "| PSX00010006  | FALSE | 1 | 0 |\n",
       "| PSX000100073 | FALSE | 3 | 0 |\n",
       "\n"
      ],
      "text/plain": [
       "   Cust_ID      Transaction == \"CH\" n num_changes\n",
       "1  PSX000100006 FALSE               3 0          \n",
       "2  PSX000100010 FALSE               1 0          \n",
       "3  PSX000100013 FALSE               3 0          \n",
       "4  PSX000100016 FALSE               1 0          \n",
       "5  PSX000100027 FALSE               1 0          \n",
       "6  PSX000100037 FALSE               1 0          \n",
       "7  PSX000100058 FALSE               1 0          \n",
       "8  PSX000100058  TRUE               1 1          \n",
       "9  PSX00010006  FALSE               1 0          \n",
       "10 PSX000100073 FALSE               3 0          "
      ]
     },
     "metadata": {},
     "output_type": "display_data"
    }
   ],
   "source": [
    "ins_changes$num_changes <- ifelse(ins_changes[,2] == TRUE, ins_changes$n, 0)\n",
    "    \n",
    "head(ins_changes, n = 10)\n",
    "\n",
    "ins_changes <- ins_changes %>% select(Cust_ID, num_changes)"
   ]
  },
  {
   "cell_type": "code",
   "execution_count": 19,
   "id": "satisfactory-permission",
   "metadata": {},
   "outputs": [
    {
     "data": {
      "text/html": [
       "<table class=\"dataframe\">\n",
       "<caption>A grouped_df: 10 × 2</caption>\n",
       "<thead>\n",
       "\t<tr><th scope=col>Cust_ID</th><th scope=col>num_changes</th></tr>\n",
       "\t<tr><th scope=col>&lt;chr&gt;</th><th scope=col>&lt;dbl[,1]&gt;</th></tr>\n",
       "</thead>\n",
       "<tbody>\n",
       "\t<tr><td>PSX000100006</td><td>0</td></tr>\n",
       "\t<tr><td>PSX000100010</td><td>0</td></tr>\n",
       "\t<tr><td>PSX000100013</td><td>0</td></tr>\n",
       "\t<tr><td>PSX000100016</td><td>0</td></tr>\n",
       "\t<tr><td>PSX000100027</td><td>0</td></tr>\n",
       "\t<tr><td>PSX000100037</td><td>0</td></tr>\n",
       "\t<tr><td>PSX000100058</td><td>1</td></tr>\n",
       "\t<tr><td>PSX00010006 </td><td>0</td></tr>\n",
       "\t<tr><td>PSX000100073</td><td>0</td></tr>\n",
       "\t<tr><td>PSX000100077</td><td>0</td></tr>\n",
       "</tbody>\n",
       "</table>\n"
      ],
      "text/latex": [
       "A grouped\\_df: 10 × 2\n",
       "\\begin{tabular}{ll}\n",
       " Cust\\_ID & num\\_changes\\\\\n",
       " <chr> & <dbl{[},1{]}>\\\\\n",
       "\\hline\n",
       "\t PSX000100006 & 0\\\\\n",
       "\t PSX000100010 & 0\\\\\n",
       "\t PSX000100013 & 0\\\\\n",
       "\t PSX000100016 & 0\\\\\n",
       "\t PSX000100027 & 0\\\\\n",
       "\t PSX000100037 & 0\\\\\n",
       "\t PSX000100058 & 1\\\\\n",
       "\t PSX00010006  & 0\\\\\n",
       "\t PSX000100073 & 0\\\\\n",
       "\t PSX000100077 & 0\\\\\n",
       "\\end{tabular}\n"
      ],
      "text/markdown": [
       "\n",
       "A grouped_df: 10 × 2\n",
       "\n",
       "| Cust_ID &lt;chr&gt; | num_changes &lt;dbl[,1]&gt; |\n",
       "|---|---|\n",
       "| PSX000100006 | 0 |\n",
       "| PSX000100010 | 0 |\n",
       "| PSX000100013 | 0 |\n",
       "| PSX000100016 | 0 |\n",
       "| PSX000100027 | 0 |\n",
       "| PSX000100037 | 0 |\n",
       "| PSX000100058 | 1 |\n",
       "| PSX00010006  | 0 |\n",
       "| PSX000100073 | 0 |\n",
       "| PSX000100077 | 0 |\n",
       "\n"
      ],
      "text/plain": [
       "   Cust_ID      num_changes\n",
       "1  PSX000100006 0          \n",
       "2  PSX000100010 0          \n",
       "3  PSX000100013 0          \n",
       "4  PSX000100016 0          \n",
       "5  PSX000100027 0          \n",
       "6  PSX000100037 0          \n",
       "7  PSX000100058 1          \n",
       "8  PSX00010006  0          \n",
       "9  PSX000100073 0          \n",
       "10 PSX000100077 0          "
      ]
     },
     "metadata": {},
     "output_type": "display_data"
    }
   ],
   "source": [
    "ins_changes <- ins_changes %>% group_by(Cust_ID) %>% filter(duplicated(Cust_ID) | n()==1) %>% select(Cust_ID, num_changes)\n",
    "\n",
    "head(ins_changes, n = 10)"
   ]
  },
  {
   "cell_type": "markdown",
   "id": "alone-biodiversity",
   "metadata": {},
   "source": [
    "Let's combine these recency and frequency features into our features dataset."
   ]
  },
  {
   "cell_type": "code",
   "execution_count": 20,
   "id": "applicable-patio",
   "metadata": {},
   "outputs": [
    {
     "data": {
      "text/html": [
       "<table class=\"dataframe\">\n",
       "<caption>A data.frame: 10 × 10</caption>\n",
       "<thead>\n",
       "\t<tr><th></th><th scope=col>Cust_ID</th><th scope=col>Date</th><th scope=col>Type</th><th scope=col>Reward_R</th><th scope=col>Reward_A</th><th scope=col>diff</th><th scope=col>Cov_Limit</th><th scope=col>Income</th><th scope=col>Cov_Income_Ratio</th><th scope=col>rec_avg</th></tr>\n",
       "\t<tr><th></th><th scope=col>&lt;chr&gt;</th><th scope=col>&lt;date&gt;</th><th scope=col>&lt;chr&gt;</th><th scope=col>&lt;int&gt;</th><th scope=col>&lt;int&gt;</th><th scope=col>&lt;drtn&gt;</th><th scope=col>&lt;int&gt;</th><th scope=col>&lt;int&gt;</th><th scope=col>&lt;dbl&gt;</th><th scope=col>&lt;dbl&gt;</th></tr>\n",
       "</thead>\n",
       "<tbody>\n",
       "\t<tr><th scope=row>1</th><td>PSX000100231</td><td>2008-05-05</td><td>V</td><td>405</td><td>400000</td><td>25 days</td><td>400000</td><td> 79155</td><td> 5.053376</td><td>0.26699530</td></tr>\n",
       "\t<tr><th scope=row>2</th><td>PSX000100236</td><td>1970-10-06</td><td>T</td><td>469</td><td>250000</td><td>24 days</td><td>250000</td><td> 54738</td><td> 4.567211</td><td>0.46985547</td></tr>\n",
       "\t<tr><th scope=row>3</th><td>PSX000100286</td><td>2003-03-20</td><td>V</td><td>337</td><td>150000</td><td>22 days</td><td>150000</td><td> 95973</td><td> 1.562940</td><td>0.45321212</td></tr>\n",
       "\t<tr><th scope=row>4</th><td>PSX00010030 </td><td>1980-01-09</td><td>T</td><td>377</td><td>350000</td><td>23 days</td><td>350000</td><td> 37725</td><td> 9.277667</td><td>0.69281103</td></tr>\n",
       "\t<tr><th scope=row>5</th><td>PSX000100314</td><td>1994-12-26</td><td>W</td><td>144</td><td>750000</td><td>24 days</td><td>750000</td><td> 72816</td><td>10.299934</td><td>0.62692482</td></tr>\n",
       "\t<tr><th scope=row>6</th><td>PSX000100337</td><td>2007-01-28</td><td>W</td><td>445</td><td>400000</td><td>11 days</td><td>400000</td><td>114879</td><td> 3.481924</td><td>0.86874665</td></tr>\n",
       "\t<tr><th scope=row>7</th><td>PSX000100470</td><td>1991-06-11</td><td>T</td><td>386</td><td>800000</td><td>22 days</td><td>800000</td><td> 74437</td><td>10.747343</td><td>0.69506669</td></tr>\n",
       "\t<tr><th scope=row>8</th><td>PSX000100555</td><td>2011-02-08</td><td>T</td><td>519</td><td>     0</td><td>23 days</td><td>650000</td><td> 33238</td><td>19.555930</td><td>0.43874262</td></tr>\n",
       "\t<tr><th scope=row>9</th><td>PSX000100585</td><td>2005-09-27</td><td>V</td><td>264</td><td>300000</td><td>23 days</td><td>300000</td><td> 26998</td><td>11.111934</td><td>0.07868377</td></tr>\n",
       "\t<tr><th scope=row>10</th><td>PSX000100611</td><td>1990-01-24</td><td>T</td><td>298</td><td>300000</td><td>25 days</td><td>300000</td><td> 25930</td><td>11.569610</td><td>0.05728075</td></tr>\n",
       "</tbody>\n",
       "</table>\n"
      ],
      "text/latex": [
       "A data.frame: 10 × 10\n",
       "\\begin{tabular}{r|llllllllll}\n",
       "  & Cust\\_ID & Date & Type & Reward\\_R & Reward\\_A & diff & Cov\\_Limit & Income & Cov\\_Income\\_Ratio & rec\\_avg\\\\\n",
       "  & <chr> & <date> & <chr> & <int> & <int> & <drtn> & <int> & <int> & <dbl> & <dbl>\\\\\n",
       "\\hline\n",
       "\t1 & PSX000100231 & 2008-05-05 & V & 405 & 400000 & 25 days & 400000 &  79155 &  5.053376 & 0.26699530\\\\\n",
       "\t2 & PSX000100236 & 1970-10-06 & T & 469 & 250000 & 24 days & 250000 &  54738 &  4.567211 & 0.46985547\\\\\n",
       "\t3 & PSX000100286 & 2003-03-20 & V & 337 & 150000 & 22 days & 150000 &  95973 &  1.562940 & 0.45321212\\\\\n",
       "\t4 & PSX00010030  & 1980-01-09 & T & 377 & 350000 & 23 days & 350000 &  37725 &  9.277667 & 0.69281103\\\\\n",
       "\t5 & PSX000100314 & 1994-12-26 & W & 144 & 750000 & 24 days & 750000 &  72816 & 10.299934 & 0.62692482\\\\\n",
       "\t6 & PSX000100337 & 2007-01-28 & W & 445 & 400000 & 11 days & 400000 & 114879 &  3.481924 & 0.86874665\\\\\n",
       "\t7 & PSX000100470 & 1991-06-11 & T & 386 & 800000 & 22 days & 800000 &  74437 & 10.747343 & 0.69506669\\\\\n",
       "\t8 & PSX000100555 & 2011-02-08 & T & 519 &      0 & 23 days & 650000 &  33238 & 19.555930 & 0.43874262\\\\\n",
       "\t9 & PSX000100585 & 2005-09-27 & V & 264 & 300000 & 23 days & 300000 &  26998 & 11.111934 & 0.07868377\\\\\n",
       "\t10 & PSX000100611 & 1990-01-24 & T & 298 & 300000 & 25 days & 300000 &  25930 & 11.569610 & 0.05728075\\\\\n",
       "\\end{tabular}\n"
      ],
      "text/markdown": [
       "\n",
       "A data.frame: 10 × 10\n",
       "\n",
       "| <!--/--> | Cust_ID &lt;chr&gt; | Date &lt;date&gt; | Type &lt;chr&gt; | Reward_R &lt;int&gt; | Reward_A &lt;int&gt; | diff &lt;drtn&gt; | Cov_Limit &lt;int&gt; | Income &lt;int&gt; | Cov_Income_Ratio &lt;dbl&gt; | rec_avg &lt;dbl&gt; |\n",
       "|---|---|---|---|---|---|---|---|---|---|---|\n",
       "| 1 | PSX000100231 | 2008-05-05 | V | 405 | 400000 | 25 days | 400000 |  79155 |  5.053376 | 0.26699530 |\n",
       "| 2 | PSX000100236 | 1970-10-06 | T | 469 | 250000 | 24 days | 250000 |  54738 |  4.567211 | 0.46985547 |\n",
       "| 3 | PSX000100286 | 2003-03-20 | V | 337 | 150000 | 22 days | 150000 |  95973 |  1.562940 | 0.45321212 |\n",
       "| 4 | PSX00010030  | 1980-01-09 | T | 377 | 350000 | 23 days | 350000 |  37725 |  9.277667 | 0.69281103 |\n",
       "| 5 | PSX000100314 | 1994-12-26 | W | 144 | 750000 | 24 days | 750000 |  72816 | 10.299934 | 0.62692482 |\n",
       "| 6 | PSX000100337 | 2007-01-28 | W | 445 | 400000 | 11 days | 400000 | 114879 |  3.481924 | 0.86874665 |\n",
       "| 7 | PSX000100470 | 1991-06-11 | T | 386 | 800000 | 22 days | 800000 |  74437 | 10.747343 | 0.69506669 |\n",
       "| 8 | PSX000100555 | 2011-02-08 | T | 519 |      0 | 23 days | 650000 |  33238 | 19.555930 | 0.43874262 |\n",
       "| 9 | PSX000100585 | 2005-09-27 | V | 264 | 300000 | 23 days | 300000 |  26998 | 11.111934 | 0.07868377 |\n",
       "| 10 | PSX000100611 | 1990-01-24 | T | 298 | 300000 | 25 days | 300000 |  25930 | 11.569610 | 0.05728075 |\n",
       "\n"
      ],
      "text/plain": [
       "   Cust_ID      Date       Type Reward_R Reward_A diff    Cov_Limit Income\n",
       "1  PSX000100231 2008-05-05 V    405      400000   25 days 400000     79155\n",
       "2  PSX000100236 1970-10-06 T    469      250000   24 days 250000     54738\n",
       "3  PSX000100286 2003-03-20 V    337      150000   22 days 150000     95973\n",
       "4  PSX00010030  1980-01-09 T    377      350000   23 days 350000     37725\n",
       "5  PSX000100314 1994-12-26 W    144      750000   24 days 750000     72816\n",
       "6  PSX000100337 2007-01-28 W    445      400000   11 days 400000    114879\n",
       "7  PSX000100470 1991-06-11 T    386      800000   22 days 800000     74437\n",
       "8  PSX000100555 2011-02-08 T    519           0   23 days 650000     33238\n",
       "9  PSX000100585 2005-09-27 V    264      300000   23 days 300000     26998\n",
       "10 PSX000100611 1990-01-24 T    298      300000   25 days 300000     25930\n",
       "   Cov_Income_Ratio rec_avg   \n",
       "1   5.053376        0.26699530\n",
       "2   4.567211        0.46985547\n",
       "3   1.562940        0.45321212\n",
       "4   9.277667        0.69281103\n",
       "5  10.299934        0.62692482\n",
       "6   3.481924        0.86874665\n",
       "7  10.747343        0.69506669\n",
       "8  19.555930        0.43874262\n",
       "9  11.111934        0.07868377\n",
       "10 11.569610        0.05728075"
      ]
     },
     "metadata": {},
     "output_type": "display_data"
    }
   ],
   "source": [
    "ins_feat <- merge(ins_feat, ins_rec)\n",
    "\n",
    "head(ins_feat, n = 10)"
   ]
  },
  {
   "cell_type": "code",
   "execution_count": 21,
   "id": "verbal-quarter",
   "metadata": {},
   "outputs": [
    {
     "data": {
      "text/html": [
       "<table class=\"dataframe\">\n",
       "<caption>A data.frame: 10 × 11</caption>\n",
       "<thead>\n",
       "\t<tr><th></th><th scope=col>Cust_ID</th><th scope=col>Date</th><th scope=col>Type</th><th scope=col>Reward_R</th><th scope=col>Reward_A</th><th scope=col>diff</th><th scope=col>Cov_Limit</th><th scope=col>Income</th><th scope=col>Cov_Income_Ratio</th><th scope=col>rec_avg</th><th scope=col>num_changes</th></tr>\n",
       "\t<tr><th></th><th scope=col>&lt;chr&gt;</th><th scope=col>&lt;date&gt;</th><th scope=col>&lt;chr&gt;</th><th scope=col>&lt;int&gt;</th><th scope=col>&lt;int&gt;</th><th scope=col>&lt;drtn&gt;</th><th scope=col>&lt;int&gt;</th><th scope=col>&lt;int&gt;</th><th scope=col>&lt;dbl&gt;</th><th scope=col>&lt;dbl&gt;</th><th scope=col>&lt;dbl[,1]&gt;</th></tr>\n",
       "</thead>\n",
       "<tbody>\n",
       "\t<tr><th scope=row>1</th><td>PSX000100231</td><td>2008-05-05</td><td>V</td><td>405</td><td>400000</td><td>25 days</td><td>400000</td><td> 79155</td><td> 5.053376</td><td>0.26699530</td><td>2</td></tr>\n",
       "\t<tr><th scope=row>2</th><td>PSX000100236</td><td>1970-10-06</td><td>T</td><td>469</td><td>250000</td><td>24 days</td><td>250000</td><td> 54738</td><td> 4.567211</td><td>0.46985547</td><td>1</td></tr>\n",
       "\t<tr><th scope=row>3</th><td>PSX000100286</td><td>2003-03-20</td><td>V</td><td>337</td><td>150000</td><td>22 days</td><td>150000</td><td> 95973</td><td> 1.562940</td><td>0.45321212</td><td>1</td></tr>\n",
       "\t<tr><th scope=row>4</th><td>PSX00010030 </td><td>1980-01-09</td><td>T</td><td>377</td><td>350000</td><td>23 days</td><td>350000</td><td> 37725</td><td> 9.277667</td><td>0.69281103</td><td>1</td></tr>\n",
       "\t<tr><th scope=row>5</th><td>PSX000100314</td><td>1994-12-26</td><td>W</td><td>144</td><td>750000</td><td>24 days</td><td>750000</td><td> 72816</td><td>10.299934</td><td>0.62692482</td><td>4</td></tr>\n",
       "\t<tr><th scope=row>6</th><td>PSX000100337</td><td>2007-01-28</td><td>W</td><td>445</td><td>400000</td><td>11 days</td><td>400000</td><td>114879</td><td> 3.481924</td><td>0.86874665</td><td>1</td></tr>\n",
       "\t<tr><th scope=row>7</th><td>PSX000100470</td><td>1991-06-11</td><td>T</td><td>386</td><td>800000</td><td>22 days</td><td>800000</td><td> 74437</td><td>10.747343</td><td>0.69506669</td><td>4</td></tr>\n",
       "\t<tr><th scope=row>8</th><td>PSX000100555</td><td>2011-02-08</td><td>T</td><td>519</td><td>     0</td><td>23 days</td><td>650000</td><td> 33238</td><td>19.555930</td><td>0.43874262</td><td>3</td></tr>\n",
       "\t<tr><th scope=row>9</th><td>PSX000100585</td><td>2005-09-27</td><td>V</td><td>264</td><td>300000</td><td>23 days</td><td>300000</td><td> 26998</td><td>11.111934</td><td>0.07868377</td><td>1</td></tr>\n",
       "\t<tr><th scope=row>10</th><td>PSX000100611</td><td>1990-01-24</td><td>T</td><td>298</td><td>300000</td><td>25 days</td><td>300000</td><td> 25930</td><td>11.569610</td><td>0.05728075</td><td>1</td></tr>\n",
       "</tbody>\n",
       "</table>\n"
      ],
      "text/latex": [
       "A data.frame: 10 × 11\n",
       "\\begin{tabular}{r|lllllllllll}\n",
       "  & Cust\\_ID & Date & Type & Reward\\_R & Reward\\_A & diff & Cov\\_Limit & Income & Cov\\_Income\\_Ratio & rec\\_avg & num\\_changes\\\\\n",
       "  & <chr> & <date> & <chr> & <int> & <int> & <drtn> & <int> & <int> & <dbl> & <dbl> & <dbl{[},1{]}>\\\\\n",
       "\\hline\n",
       "\t1 & PSX000100231 & 2008-05-05 & V & 405 & 400000 & 25 days & 400000 &  79155 &  5.053376 & 0.26699530 & 2\\\\\n",
       "\t2 & PSX000100236 & 1970-10-06 & T & 469 & 250000 & 24 days & 250000 &  54738 &  4.567211 & 0.46985547 & 1\\\\\n",
       "\t3 & PSX000100286 & 2003-03-20 & V & 337 & 150000 & 22 days & 150000 &  95973 &  1.562940 & 0.45321212 & 1\\\\\n",
       "\t4 & PSX00010030  & 1980-01-09 & T & 377 & 350000 & 23 days & 350000 &  37725 &  9.277667 & 0.69281103 & 1\\\\\n",
       "\t5 & PSX000100314 & 1994-12-26 & W & 144 & 750000 & 24 days & 750000 &  72816 & 10.299934 & 0.62692482 & 4\\\\\n",
       "\t6 & PSX000100337 & 2007-01-28 & W & 445 & 400000 & 11 days & 400000 & 114879 &  3.481924 & 0.86874665 & 1\\\\\n",
       "\t7 & PSX000100470 & 1991-06-11 & T & 386 & 800000 & 22 days & 800000 &  74437 & 10.747343 & 0.69506669 & 4\\\\\n",
       "\t8 & PSX000100555 & 2011-02-08 & T & 519 &      0 & 23 days & 650000 &  33238 & 19.555930 & 0.43874262 & 3\\\\\n",
       "\t9 & PSX000100585 & 2005-09-27 & V & 264 & 300000 & 23 days & 300000 &  26998 & 11.111934 & 0.07868377 & 1\\\\\n",
       "\t10 & PSX000100611 & 1990-01-24 & T & 298 & 300000 & 25 days & 300000 &  25930 & 11.569610 & 0.05728075 & 1\\\\\n",
       "\\end{tabular}\n"
      ],
      "text/markdown": [
       "\n",
       "A data.frame: 10 × 11\n",
       "\n",
       "| <!--/--> | Cust_ID &lt;chr&gt; | Date &lt;date&gt; | Type &lt;chr&gt; | Reward_R &lt;int&gt; | Reward_A &lt;int&gt; | diff &lt;drtn&gt; | Cov_Limit &lt;int&gt; | Income &lt;int&gt; | Cov_Income_Ratio &lt;dbl&gt; | rec_avg &lt;dbl&gt; | num_changes &lt;dbl[,1]&gt; |\n",
       "|---|---|---|---|---|---|---|---|---|---|---|---|\n",
       "| 1 | PSX000100231 | 2008-05-05 | V | 405 | 400000 | 25 days | 400000 |  79155 |  5.053376 | 0.26699530 | 2 |\n",
       "| 2 | PSX000100236 | 1970-10-06 | T | 469 | 250000 | 24 days | 250000 |  54738 |  4.567211 | 0.46985547 | 1 |\n",
       "| 3 | PSX000100286 | 2003-03-20 | V | 337 | 150000 | 22 days | 150000 |  95973 |  1.562940 | 0.45321212 | 1 |\n",
       "| 4 | PSX00010030  | 1980-01-09 | T | 377 | 350000 | 23 days | 350000 |  37725 |  9.277667 | 0.69281103 | 1 |\n",
       "| 5 | PSX000100314 | 1994-12-26 | W | 144 | 750000 | 24 days | 750000 |  72816 | 10.299934 | 0.62692482 | 4 |\n",
       "| 6 | PSX000100337 | 2007-01-28 | W | 445 | 400000 | 11 days | 400000 | 114879 |  3.481924 | 0.86874665 | 1 |\n",
       "| 7 | PSX000100470 | 1991-06-11 | T | 386 | 800000 | 22 days | 800000 |  74437 | 10.747343 | 0.69506669 | 4 |\n",
       "| 8 | PSX000100555 | 2011-02-08 | T | 519 |      0 | 23 days | 650000 |  33238 | 19.555930 | 0.43874262 | 3 |\n",
       "| 9 | PSX000100585 | 2005-09-27 | V | 264 | 300000 | 23 days | 300000 |  26998 | 11.111934 | 0.07868377 | 1 |\n",
       "| 10 | PSX000100611 | 1990-01-24 | T | 298 | 300000 | 25 days | 300000 |  25930 | 11.569610 | 0.05728075 | 1 |\n",
       "\n"
      ],
      "text/plain": [
       "   Cust_ID      Date       Type Reward_R Reward_A diff    Cov_Limit Income\n",
       "1  PSX000100231 2008-05-05 V    405      400000   25 days 400000     79155\n",
       "2  PSX000100236 1970-10-06 T    469      250000   24 days 250000     54738\n",
       "3  PSX000100286 2003-03-20 V    337      150000   22 days 150000     95973\n",
       "4  PSX00010030  1980-01-09 T    377      350000   23 days 350000     37725\n",
       "5  PSX000100314 1994-12-26 W    144      750000   24 days 750000     72816\n",
       "6  PSX000100337 2007-01-28 W    445      400000   11 days 400000    114879\n",
       "7  PSX000100470 1991-06-11 T    386      800000   22 days 800000     74437\n",
       "8  PSX000100555 2011-02-08 T    519           0   23 days 650000     33238\n",
       "9  PSX000100585 2005-09-27 V    264      300000   23 days 300000     26998\n",
       "10 PSX000100611 1990-01-24 T    298      300000   25 days 300000     25930\n",
       "   Cov_Income_Ratio rec_avg    num_changes\n",
       "1   5.053376        0.26699530 2          \n",
       "2   4.567211        0.46985547 1          \n",
       "3   1.562940        0.45321212 1          \n",
       "4   9.277667        0.69281103 1          \n",
       "5  10.299934        0.62692482 4          \n",
       "6   3.481924        0.86874665 1          \n",
       "7  10.747343        0.69506669 4          \n",
       "8  19.555930        0.43874262 3          \n",
       "9  11.111934        0.07868377 1          \n",
       "10 11.569610        0.05728075 1          "
      ]
     },
     "metadata": {},
     "output_type": "display_data"
    }
   ],
   "source": [
    "ins_feat <- merge(ins_feat, ins_changes)\n",
    "\n",
    "head(ins_feat, n = 10)"
   ]
  },
  {
   "cell_type": "markdown",
   "id": "lyric-swift",
   "metadata": {},
   "source": [
    "### Periodic Mean"
   ]
  },
  {
   "cell_type": "markdown",
   "id": "direct-cruise",
   "metadata": {},
   "source": [
    "Our insurance data doesn't have any hourly information where this periodic mean would prove useful. \n",
    "\n",
    "Here is an example with random data to help us visualize the problem at hand."
   ]
  },
  {
   "cell_type": "code",
   "execution_count": 22,
   "id": "agreed-medline",
   "metadata": {},
   "outputs": [
    {
     "data": {
      "text/plain": [
       "[1] \"2020-02-03 02:50:31 EST\" \"2020-02-03 03:20:16 EST\"\n",
       "[3] \"2020-02-03 00:03:46 EST\" \"2020-02-02 22:41:09 EST\"\n",
       "[5] \"2020-02-03 02:55:24 EST\" \"2020-02-02 17:13:41 EST\""
      ]
     },
     "metadata": {},
     "output_type": "display_data"
    },
    {
     "name": "stdout",
     "output_type": "stream",
     "text": [
      "[1] 11.00466\n"
     ]
    }
   ],
   "source": [
    "set.seed(12345)\n",
    "timestamp <- as.POSIXlt(\"2020-02-03 00:30:00\") + rnorm(1000, 0, 60*60*4)\n",
    "head(timestamp)\n",
    "\n",
    "timestamp_hms <- strftime(timestamp, format=\"%H:%M:%S\")\n",
    "ts <- as.numeric(hms(timestamp_hms))/3600\n",
    "mean_a <- mean(ts)\n",
    "\n",
    "print(mean_a)"
   ]
  },
  {
   "cell_type": "code",
   "execution_count": 23,
   "id": "residential-tracy",
   "metadata": {},
   "outputs": [
    {
     "data": {
      "image/png": "[encoded data removed]",
      "text/plain": [
       "plot without title"
      ]
     },
     "metadata": {
      "image/png": {
       "height": 420,
       "width": 420
      }
     },
     "output_type": "display_data"
    }
   ],
   "source": [
    "clock <- ggplot(data.frame(ts), aes(x = ts)) +\n",
    "  geom_histogram(breaks = seq(0, 24), colour = \"blue\", fill = \"lightblue\") +\n",
    "  coord_polar() + scale_x_continuous(\"\", limits = c(0, 24), breaks = seq(0, 24))\n",
    "\n",
    "clock + geom_vline(xintercept = mean_a,\n",
    "                   linetype = 2, color = \"red\", size = 2)"
   ]
  },
  {
   "cell_type": "code",
   "execution_count": 24,
   "id": "downtown-formula",
   "metadata": {},
   "outputs": [
    {
     "data": {
      "text/html": [
       "<style>\n",
       ".list-inline {list-style: none; margin:0; padding: 0}\n",
       ".list-inline>li {display: inline-block}\n",
       ".list-inline>li:not(:last-child)::after {content: \"\\00b7\"; padding: 0 .5ex}\n",
       "</style>\n",
       "<ol class=list-inline><li>2.84194444444444</li><li>3.33777777777778</li><li>0.0627777777777778</li><li>22.6858333333333</li><li>2.92333333333333</li><li>17.2280555555556</li></ol>\n"
      ],
      "text/latex": [
       "\\begin{enumerate*}\n",
       "\\item 2.84194444444444\n",
       "\\item 3.33777777777778\n",
       "\\item 0.0627777777777778\n",
       "\\item 22.6858333333333\n",
       "\\item 2.92333333333333\n",
       "\\item 17.2280555555556\n",
       "\\end{enumerate*}\n"
      ],
      "text/markdown": [
       "1. 2.84194444444444\n",
       "2. 3.33777777777778\n",
       "3. 0.0627777777777778\n",
       "4. 22.6858333333333\n",
       "5. 2.92333333333333\n",
       "6. 17.2280555555556\n",
       "\n",
       "\n"
      ],
      "text/plain": [
       "Circular Data: \n",
       "Type = angles \n",
       "Units = hours \n",
       "Template = clock24 \n",
       "Modulo = asis \n",
       "Zero = 1.570796 \n",
       "Rotation = clock \n",
       "[1]  2.84194444  3.33777778  0.06277778 22.68583333  2.92333333 17.22805556"
      ]
     },
     "metadata": {},
     "output_type": "display_data"
    },
    {
     "name": "stdout",
     "output_type": "stream",
     "text": [
      "Circular Data: \n",
      "Type = angles \n",
      "Units = hours \n",
      "Template = clock24 \n",
      "Modulo = asis \n",
      "Zero = 1.570796 \n",
      "Rotation = clock \n",
      "[1] 0.7032131\n"
     ]
    }
   ],
   "source": [
    "ts <- circular(ts, units = \"hours\", template = \"clock24\")\n",
    "head(ts)\n",
    "estimates <- mle.vonmises(ts)\n",
    "mean_p <- estimates$mu %% 24\n",
    "concentration <- estimates$kappa\n",
    "\n",
    "print(mean_p)"
   ]
  },
  {
   "cell_type": "code",
   "execution_count": 25,
   "id": "structural-buffalo",
   "metadata": {},
   "outputs": [
    {
     "data": {
      "image/png": "[encoded data removed]",
      "text/plain": [
       "plot without title"
      ]
     },
     "metadata": {
      "image/png": {
       "height": 420,
       "width": 420
      }
     },
     "output_type": "display_data"
    }
   ],
   "source": [
    "clock + geom_vline(xintercept = mean_p,\n",
    "                   linetype = 2, color = \"red\", size = 2)"
   ]
  },
  {
   "cell_type": "markdown",
   "id": "unknown-damages",
   "metadata": {},
   "source": [
    "### Categorical Feature Engineering"
   ]
  },
  {
   "cell_type": "markdown",
   "id": "dedicated-finnish",
   "metadata": {},
   "source": [
    "Feature engineering doesn't stop with just continuous variables in transactional data. We need to account for categorical features as well.\n",
    "\n",
    "In our data, the reward reason (Reward_R) variable is categorical. It has numerical representations for reasons of passing that are given on the life insurance policy. Some of these reasons are approved - life insurance policy is paid out. However, not all reasons of passing are covered so the policy isn't paid out in those scenarios."
   ]
  },
  {
   "cell_type": "code",
   "execution_count": 22,
   "id": "several-gardening",
   "metadata": {},
   "outputs": [
    {
     "data": {
      "text/html": [
       "480"
      ],
      "text/latex": [
       "480"
      ],
      "text/markdown": [
       "480"
      ],
      "text/plain": [
       "[1] 480"
      ]
     },
     "metadata": {},
     "output_type": "display_data"
    }
   ],
   "source": [
    "length(unique(ins_feat$Reward_R))"
   ]
  },
  {
   "cell_type": "markdown",
   "id": "funded-toddler",
   "metadata": {},
   "source": [
    "Instead of having 480 possible categories, let combine these into two groups - approved and rejected reasons - based on the reward amount. If the reward amount was 0, then the reason was not covered by the policy."
   ]
  },
  {
   "cell_type": "code",
   "execution_count": 23,
   "id": "balanced-brain",
   "metadata": {},
   "outputs": [
    {
     "data": {
      "text/html": [
       "<table class=\"dataframe\">\n",
       "<caption>A data.frame: 10 × 12</caption>\n",
       "<thead>\n",
       "\t<tr><th></th><th scope=col>Cust_ID</th><th scope=col>Date</th><th scope=col>Type</th><th scope=col>Reward_R</th><th scope=col>Reward_A</th><th scope=col>diff</th><th scope=col>Cov_Limit</th><th scope=col>Income</th><th scope=col>Cov_Income_Ratio</th><th scope=col>rec_avg</th><th scope=col>num_changes</th><th scope=col>Reward_Y</th></tr>\n",
       "\t<tr><th></th><th scope=col>&lt;chr&gt;</th><th scope=col>&lt;date&gt;</th><th scope=col>&lt;chr&gt;</th><th scope=col>&lt;int&gt;</th><th scope=col>&lt;int&gt;</th><th scope=col>&lt;drtn&gt;</th><th scope=col>&lt;int&gt;</th><th scope=col>&lt;int&gt;</th><th scope=col>&lt;dbl&gt;</th><th scope=col>&lt;dbl&gt;</th><th scope=col>&lt;dbl[,1]&gt;</th><th scope=col>&lt;chr&gt;</th></tr>\n",
       "</thead>\n",
       "<tbody>\n",
       "\t<tr><th scope=row>1</th><td>PSX000100231</td><td>2008-05-05</td><td>V</td><td>405</td><td>400000</td><td>25 days</td><td>400000</td><td> 79155</td><td> 5.053376</td><td>0.26699530</td><td>2</td><td>Y</td></tr>\n",
       "\t<tr><th scope=row>2</th><td>PSX000100236</td><td>1970-10-06</td><td>T</td><td>469</td><td>250000</td><td>24 days</td><td>250000</td><td> 54738</td><td> 4.567211</td><td>0.46985547</td><td>1</td><td>Y</td></tr>\n",
       "\t<tr><th scope=row>3</th><td>PSX000100286</td><td>2003-03-20</td><td>V</td><td>337</td><td>150000</td><td>22 days</td><td>150000</td><td> 95973</td><td> 1.562940</td><td>0.45321212</td><td>1</td><td>Y</td></tr>\n",
       "\t<tr><th scope=row>4</th><td>PSX00010030 </td><td>1980-01-09</td><td>T</td><td>377</td><td>350000</td><td>23 days</td><td>350000</td><td> 37725</td><td> 9.277667</td><td>0.69281103</td><td>1</td><td>Y</td></tr>\n",
       "\t<tr><th scope=row>5</th><td>PSX000100314</td><td>1994-12-26</td><td>W</td><td>144</td><td>750000</td><td>24 days</td><td>750000</td><td> 72816</td><td>10.299934</td><td>0.62692482</td><td>4</td><td>Y</td></tr>\n",
       "\t<tr><th scope=row>6</th><td>PSX000100337</td><td>2007-01-28</td><td>W</td><td>445</td><td>400000</td><td>11 days</td><td>400000</td><td>114879</td><td> 3.481924</td><td>0.86874665</td><td>1</td><td>Y</td></tr>\n",
       "\t<tr><th scope=row>7</th><td>PSX000100470</td><td>1991-06-11</td><td>T</td><td>386</td><td>800000</td><td>22 days</td><td>800000</td><td> 74437</td><td>10.747343</td><td>0.69506669</td><td>4</td><td>Y</td></tr>\n",
       "\t<tr><th scope=row>8</th><td>PSX000100555</td><td>2011-02-08</td><td>T</td><td>519</td><td>     0</td><td>23 days</td><td>650000</td><td> 33238</td><td>19.555930</td><td>0.43874262</td><td>3</td><td>N</td></tr>\n",
       "\t<tr><th scope=row>9</th><td>PSX000100585</td><td>2005-09-27</td><td>V</td><td>264</td><td>300000</td><td>23 days</td><td>300000</td><td> 26998</td><td>11.111934</td><td>0.07868377</td><td>1</td><td>Y</td></tr>\n",
       "\t<tr><th scope=row>10</th><td>PSX000100611</td><td>1990-01-24</td><td>T</td><td>298</td><td>300000</td><td>25 days</td><td>300000</td><td> 25930</td><td>11.569610</td><td>0.05728075</td><td>1</td><td>Y</td></tr>\n",
       "</tbody>\n",
       "</table>\n"
      ],
      "text/latex": [
       "A data.frame: 10 × 12\n",
       "\\begin{tabular}{r|llllllllllll}\n",
       "  & Cust\\_ID & Date & Type & Reward\\_R & Reward\\_A & diff & Cov\\_Limit & Income & Cov\\_Income\\_Ratio & rec\\_avg & num\\_changes & Reward\\_Y\\\\\n",
       "  & <chr> & <date> & <chr> & <int> & <int> & <drtn> & <int> & <int> & <dbl> & <dbl> & <dbl{[},1{]}> & <chr>\\\\\n",
       "\\hline\n",
       "\t1 & PSX000100231 & 2008-05-05 & V & 405 & 400000 & 25 days & 400000 &  79155 &  5.053376 & 0.26699530 & 2 & Y\\\\\n",
       "\t2 & PSX000100236 & 1970-10-06 & T & 469 & 250000 & 24 days & 250000 &  54738 &  4.567211 & 0.46985547 & 1 & Y\\\\\n",
       "\t3 & PSX000100286 & 2003-03-20 & V & 337 & 150000 & 22 days & 150000 &  95973 &  1.562940 & 0.45321212 & 1 & Y\\\\\n",
       "\t4 & PSX00010030  & 1980-01-09 & T & 377 & 350000 & 23 days & 350000 &  37725 &  9.277667 & 0.69281103 & 1 & Y\\\\\n",
       "\t5 & PSX000100314 & 1994-12-26 & W & 144 & 750000 & 24 days & 750000 &  72816 & 10.299934 & 0.62692482 & 4 & Y\\\\\n",
       "\t6 & PSX000100337 & 2007-01-28 & W & 445 & 400000 & 11 days & 400000 & 114879 &  3.481924 & 0.86874665 & 1 & Y\\\\\n",
       "\t7 & PSX000100470 & 1991-06-11 & T & 386 & 800000 & 22 days & 800000 &  74437 & 10.747343 & 0.69506669 & 4 & Y\\\\\n",
       "\t8 & PSX000100555 & 2011-02-08 & T & 519 &      0 & 23 days & 650000 &  33238 & 19.555930 & 0.43874262 & 3 & N\\\\\n",
       "\t9 & PSX000100585 & 2005-09-27 & V & 264 & 300000 & 23 days & 300000 &  26998 & 11.111934 & 0.07868377 & 1 & Y\\\\\n",
       "\t10 & PSX000100611 & 1990-01-24 & T & 298 & 300000 & 25 days & 300000 &  25930 & 11.569610 & 0.05728075 & 1 & Y\\\\\n",
       "\\end{tabular}\n"
      ],
      "text/markdown": [
       "\n",
       "A data.frame: 10 × 12\n",
       "\n",
       "| <!--/--> | Cust_ID &lt;chr&gt; | Date &lt;date&gt; | Type &lt;chr&gt; | Reward_R &lt;int&gt; | Reward_A &lt;int&gt; | diff &lt;drtn&gt; | Cov_Limit &lt;int&gt; | Income &lt;int&gt; | Cov_Income_Ratio &lt;dbl&gt; | rec_avg &lt;dbl&gt; | num_changes &lt;dbl[,1]&gt; | Reward_Y &lt;chr&gt; |\n",
       "|---|---|---|---|---|---|---|---|---|---|---|---|---|\n",
       "| 1 | PSX000100231 | 2008-05-05 | V | 405 | 400000 | 25 days | 400000 |  79155 |  5.053376 | 0.26699530 | 2 | Y |\n",
       "| 2 | PSX000100236 | 1970-10-06 | T | 469 | 250000 | 24 days | 250000 |  54738 |  4.567211 | 0.46985547 | 1 | Y |\n",
       "| 3 | PSX000100286 | 2003-03-20 | V | 337 | 150000 | 22 days | 150000 |  95973 |  1.562940 | 0.45321212 | 1 | Y |\n",
       "| 4 | PSX00010030  | 1980-01-09 | T | 377 | 350000 | 23 days | 350000 |  37725 |  9.277667 | 0.69281103 | 1 | Y |\n",
       "| 5 | PSX000100314 | 1994-12-26 | W | 144 | 750000 | 24 days | 750000 |  72816 | 10.299934 | 0.62692482 | 4 | Y |\n",
       "| 6 | PSX000100337 | 2007-01-28 | W | 445 | 400000 | 11 days | 400000 | 114879 |  3.481924 | 0.86874665 | 1 | Y |\n",
       "| 7 | PSX000100470 | 1991-06-11 | T | 386 | 800000 | 22 days | 800000 |  74437 | 10.747343 | 0.69506669 | 4 | Y |\n",
       "| 8 | PSX000100555 | 2011-02-08 | T | 519 |      0 | 23 days | 650000 |  33238 | 19.555930 | 0.43874262 | 3 | N |\n",
       "| 9 | PSX000100585 | 2005-09-27 | V | 264 | 300000 | 23 days | 300000 |  26998 | 11.111934 | 0.07868377 | 1 | Y |\n",
       "| 10 | PSX000100611 | 1990-01-24 | T | 298 | 300000 | 25 days | 300000 |  25930 | 11.569610 | 0.05728075 | 1 | Y |\n",
       "\n"
      ],
      "text/plain": [
       "   Cust_ID      Date       Type Reward_R Reward_A diff    Cov_Limit Income\n",
       "1  PSX000100231 2008-05-05 V    405      400000   25 days 400000     79155\n",
       "2  PSX000100236 1970-10-06 T    469      250000   24 days 250000     54738\n",
       "3  PSX000100286 2003-03-20 V    337      150000   22 days 150000     95973\n",
       "4  PSX00010030  1980-01-09 T    377      350000   23 days 350000     37725\n",
       "5  PSX000100314 1994-12-26 W    144      750000   24 days 750000     72816\n",
       "6  PSX000100337 2007-01-28 W    445      400000   11 days 400000    114879\n",
       "7  PSX000100470 1991-06-11 T    386      800000   22 days 800000     74437\n",
       "8  PSX000100555 2011-02-08 T    519           0   23 days 650000     33238\n",
       "9  PSX000100585 2005-09-27 V    264      300000   23 days 300000     26998\n",
       "10 PSX000100611 1990-01-24 T    298      300000   25 days 300000     25930\n",
       "   Cov_Income_Ratio rec_avg    num_changes Reward_Y\n",
       "1   5.053376        0.26699530 2           Y       \n",
       "2   4.567211        0.46985547 1           Y       \n",
       "3   1.562940        0.45321212 1           Y       \n",
       "4   9.277667        0.69281103 1           Y       \n",
       "5  10.299934        0.62692482 4           Y       \n",
       "6   3.481924        0.86874665 1           Y       \n",
       "7  10.747343        0.69506669 4           Y       \n",
       "8  19.555930        0.43874262 3           N       \n",
       "9  11.111934        0.07868377 1           Y       \n",
       "10 11.569610        0.05728075 1           Y       "
      ]
     },
     "metadata": {},
     "output_type": "display_data"
    }
   ],
   "source": [
    "ins_feat$Reward_Y <- ifelse(ins_feat$Reward_A > 0, 'Y', 'N')\n",
    "\n",
    "head(ins_feat, n = 10)"
   ]
  },
  {
   "cell_type": "markdown",
   "id": "bearing-boundary",
   "metadata": {},
   "source": [
    "## Probability and Statistical Approaches"
   ]
  },
  {
   "cell_type": "markdown",
   "id": "spoken-rebel",
   "metadata": {},
   "source": [
    "This module details the area of probability and statistical approaches to anomaly detection. Classical probability and statistical approaches to anomaly detection are a great foundation and are still widely used and useful in detecting anomalies. This module covers four main concepts in probability and statistical approaches to anomaly detection:\n",
    "\n",
    "1. Benford's Law\n",
    "2. Z-scores and Robust Z-scores\n",
    "3. IQR Rule and It's Adjustment\n",
    "4. Mahalanobis Distances"
   ]
  },
  {
   "cell_type": "markdown",
   "id": "international-offense",
   "metadata": {},
   "source": [
    "### Benford's Law"
   ]
  },
  {
   "cell_type": "markdown",
   "id": "embedded-honduras",
   "metadata": {},
   "source": [
    "We don't have addresses in our data so it makes it hard to see if someone applied for a life insurance policy using fake information. However, let's see how we would apply that to data. "
   ]
  },
  {
   "cell_type": "code",
   "execution_count": 28,
   "id": "adolescent-celebration",
   "metadata": {},
   "outputs": [
    {
     "data": {
      "image/png": "[encoded data removed]",
      "text/plain": [
       "Plot with title \"Digits Distribution\""
      ]
     },
     "metadata": {
      "image/png": {
       "height": 420,
       "width": 420
      }
     },
     "output_type": "display_data"
    },
    {
     "data": {
      "image/png": "[encoded data removed]",
      "text/plain": [
       "Plot with title \"Digits Distribution \n",
       "Second Order Test\""
      ]
     },
     "metadata": {
      "image/png": {
       "height": 420,
       "width": 420
      }
     },
     "output_type": "display_data"
    },
    {
     "data": {
      "image/png": "[encoded data removed]",
      "text/plain": [
       "Plot with title \"Summation Distribution by digits\""
      ]
     },
     "metadata": {
      "image/png": {
       "height": 420,
       "width": 420
      }
     },
     "output_type": "display_data"
    },
    {
     "data": {
      "image/png": "[encoded data removed]",
      "text/plain": [
       "Plot with title \"Chi-Squared Difference\""
      ]
     },
     "metadata": {
      "image/png": {
       "height": 420,
       "width": 420
      }
     },
     "output_type": "display_data"
    },
    {
     "data": {
      "image/png": "[encoded data removed]",
      "text/plain": [
       "Plot with title \"Summation Difference\""
      ]
     },
     "metadata": {
      "image/png": {
       "height": 420,
       "width": 420
      }
     },
     "output_type": "display_data"
    },
    {
     "data": {
      "text/plain": [
       "\n",
       "\tPearson's Chi-squared test\n",
       "\n",
       "data:  rewarddigit1\n",
       "X-squared = 9126.3, df = 8, p-value < 2.2e-16\n"
      ]
     },
     "metadata": {},
     "output_type": "display_data"
    },
    {
     "data": {
      "image/png": "[encoded data removed]",
      "text/plain": [
       "Plot with title \"Legend \n",
       " Dataset: rewarddigit1\""
      ]
     },
     "metadata": {
      "image/png": {
       "height": 420,
       "width": 420
      }
     },
     "output_type": "display_data"
    }
   ],
   "source": [
    "rewarddigit1 <- as.numeric(substring(ins_feat$Income, first = 1, last = 1))\n",
    "ben <- benford(rewarddigit1, number.of.digits = 1)\n",
    "\n",
    "plot(ben, multiple = FALSE)\n",
    "chisq(ben)"
   ]
  },
  {
   "cell_type": "markdown",
   "id": "nonprofit-washer",
   "metadata": {},
   "source": [
    "### Z-Scores and Robust Z-scores"
   ]
  },
  {
   "cell_type": "markdown",
   "id": "assumed-giving",
   "metadata": {},
   "source": [
    "We want to evaluate if we have an observation far away from \"normal\" in our coverage to income ratio at time of claim. We are looking for really large life insurance coverage limits when income is not very high - a large ratio between the two."
   ]
  },
  {
   "cell_type": "code",
   "execution_count": 24,
   "id": "fifty-brand",
   "metadata": {},
   "outputs": [
    {
     "data": {
      "image/png": "[encoded data removed]",
      "text/plain": [
       "Plot with title \"Coverage to Income Ratio\""
      ]
     },
     "metadata": {
      "image/png": {
       "height": 420,
       "width": 420
      }
     },
     "output_type": "display_data"
    },
    {
     "data": {
      "image/png": "[encoded data removed]",
      "text/plain": [
       "Plot with title \"Coverage to Income Ratio Z-Scores\""
      ]
     },
     "metadata": {
      "image/png": {
       "height": 420,
       "width": 420
      }
     },
     "output_type": "display_data"
    }
   ],
   "source": [
    "hist(ins_feat$Cov_Income_Ratio, main = \"Coverage to Income Ratio\", xlab = \"Ratio\")\n",
    "x <- ins_feat$Cov_Income_Ratio\n",
    "\n",
    "ins_feat$Z_Cov_Income_Ratio <- abs((x - mean(x))/sd(x))\n",
    "hist(ins_feat$Z_Cov_Income_Ratio, main = \"Coverage to Income Ratio Z-Scores\", xlab = \"Z-Scores\")"
   ]
  },
  {
   "cell_type": "code",
   "execution_count": 25,
   "id": "flexible-approach",
   "metadata": {},
   "outputs": [
    {
     "data": {
      "text/html": [
       "256"
      ],
      "text/latex": [
       "256"
      ],
      "text/markdown": [
       "256"
      ],
      "text/plain": [
       "[1] 256"
      ]
     },
     "metadata": {},
     "output_type": "display_data"
    }
   ],
   "source": [
    "length(which(ins_feat$Z_Cov_Income_Ratio > 3))"
   ]
  },
  {
   "cell_type": "markdown",
   "id": "liked-transcript",
   "metadata": {},
   "source": [
    "Let's switch to using the robust z-score calculation instead."
   ]
  },
  {
   "cell_type": "code",
   "execution_count": 26,
   "id": "promising-fight",
   "metadata": {},
   "outputs": [
    {
     "data": {
      "text/html": [
       "3.58072791071096"
      ],
      "text/latex": [
       "3.58072791071096"
      ],
      "text/markdown": [
       "3.58072791071096"
      ],
      "text/plain": [
       "[1] 3.580728"
      ]
     },
     "metadata": {},
     "output_type": "display_data"
    }
   ],
   "source": [
    "mad(x)"
   ]
  },
  {
   "cell_type": "code",
   "execution_count": 31,
   "id": "brutal-resident",
   "metadata": {},
   "outputs": [
    {
     "data": {
      "image/png": "[encoded data removed]",
      "text/plain": [
       "Plot with title \"Coverage to Income Ratio Robust Z-Scores\""
      ]
     },
     "metadata": {
      "image/png": {
       "height": 420,
       "width": 420
      }
     },
     "output_type": "display_data"
    }
   ],
   "source": [
    "ins_feat$RZ_Cov_Income_Ratio <- abs((x - median(x))/mad(x))\n",
    "hist(ins_feat$RZ_Cov_Income_Ratio, main = \"Coverage to Income Ratio Robust Z-Scores\", xlab = \"Robust Z-Scores\")"
   ]
  },
  {
   "cell_type": "code",
   "execution_count": 32,
   "id": "covered-counter",
   "metadata": {},
   "outputs": [
    {
     "data": {
      "text/html": [
       "665"
      ],
      "text/latex": [
       "665"
      ],
      "text/markdown": [
       "665"
      ],
      "text/plain": [
       "[1] 665"
      ]
     },
     "metadata": {},
     "output_type": "display_data"
    }
   ],
   "source": [
    "length(which(ins_feat$RZ_Cov_Income_Ratio > 3))"
   ]
  },
  {
   "cell_type": "markdown",
   "id": "downtown-platform",
   "metadata": {},
   "source": [
    "### IQR Rule and It's Adjustment"
   ]
  },
  {
   "cell_type": "markdown",
   "id": "extreme-chrome",
   "metadata": {},
   "source": [
    "Another univariate approach to looking for outliers is the IQR Rule. However, the IQR Rule really works best for symmetric distributions. For our coverage limit to income ratio variable we know this isn't symmetric based on our above plots "
   ]
  },
  {
   "cell_type": "code",
   "execution_count": 33,
   "id": "worst-warren",
   "metadata": {},
   "outputs": [
    {
     "data": {
      "text/html": [
       "610"
      ],
      "text/latex": [
       "610"
      ],
      "text/markdown": [
       "610"
      ],
      "text/plain": [
       "[1] 610"
      ]
     },
     "metadata": {},
     "output_type": "display_data"
    },
    {
     "data": {
      "text/html": [
       "84"
      ],
      "text/latex": [
       "84"
      ],
      "text/markdown": [
       "84"
      ],
      "text/plain": [
       "[1] 84"
      ]
     },
     "metadata": {},
     "output_type": "display_data"
    },
    {
     "data": {
      "image/png": "[encoded data removed]",
      "text/plain": [
       "Plot with title \"Adjusted Boxplot\""
      ]
     },
     "metadata": {
      "image/png": {
       "height": 420,
       "width": 420
      }
     },
     "output_type": "display_data"
    }
   ],
   "source": [
    "par(mfrow = c(1,2))\n",
    "\n",
    "bp <- boxplot(ins_feat$Cov_Income_Ratio, \n",
    "              col = \"lightblue\", \n",
    "              main = \"Standard Boxplot\", \n",
    "              ylab = \"Ratio of Income to Coverage at Claim\", \n",
    "              ylim = c(-5, 45))\n",
    "\n",
    "adjbp <- adjbox(ins_feat$Cov_Income_Ratio, \n",
    "                col = \"lightblue\", \n",
    "                main = \"Adjusted Boxplot\", \n",
    "                ylab = \"Ratio of Income to Coverage at Claim\", \n",
    "                ylim = c(-5, 45))\n",
    "\n",
    "length(bp$out)\n",
    "length(adjbp$out)\n",
    "\n",
    "par(mfrow = c(1,1))"
   ]
  },
  {
   "cell_type": "markdown",
   "id": "classical-music",
   "metadata": {},
   "source": [
    "### Mahalanobis Distances"
   ]
  },
  {
   "cell_type": "markdown",
   "id": "abroad-amber",
   "metadata": {},
   "source": [
    "When looking at two or more variables at the same time, we need to account for multiple dimensions. Mahalanobis distances are a multivariate version of the z-score. \n",
    "\n",
    "Let compare the two variables of average recency of changes in policies and frequency of these changes."
   ]
  },
  {
   "cell_type": "code",
   "execution_count": 34,
   "id": "sweet-resource",
   "metadata": {},
   "outputs": [
    {
     "data": {
      "image/png": "[encoded data removed]",
      "text/plain": [
       "Plot with title \"Income vs. Coverage to Income Ratio\""
      ]
     },
     "metadata": {
      "image/png": {
       "height": 420,
       "width": 420
      }
     },
     "output_type": "display_data"
    }
   ],
   "source": [
    "plot(x = ins_feat$Income, y = ins_feat$Cov_Income_Ratio, \n",
    "     main = \"Income vs. Coverage to Income Ratio\",\n",
    "     xlab = \"Income\",\n",
    "     ylab = \"Coverage to Income Ratio (Thousands $)\")\n",
    "\n",
    "df <- data.frame(income = ins_feat$Income, \n",
    "                 CIRatio = ins_feat$Cov_Income_Ratio)\n",
    "\n",
    "rad <- sqrt(qchisq(0.9999975, ncol(df)))\n",
    "ellipse(center = colMeans(df, na.rm = TRUE), \n",
    "        shape = cov(df), radius = rad, col = \"blue\")"
   ]
  },
  {
   "cell_type": "markdown",
   "id": "documentary-architecture",
   "metadata": {},
   "source": [
    "Just like with z-scores, we have a robust version of the Mahalanobis distances."
   ]
  },
  {
   "cell_type": "code",
   "execution_count": 35,
   "id": "studied-candy",
   "metadata": {},
   "outputs": [
    {
     "data": {
      "image/png": "[encoded data removed]",
      "text/plain": [
       "Plot with title \"Income vs. Coverage to Income Ratio\""
      ]
     },
     "metadata": {
      "image/png": {
       "height": 420,
       "width": 420
      }
     },
     "output_type": "display_data"
    }
   ],
   "source": [
    "mcdresult <- covMcd(df)\n",
    "robustcenter <- mcdresult$center\n",
    "robustcov <- mcdresult$cov\n",
    "\n",
    "plot(x = ins_feat$Income, y = ins_feat$Cov_Income_Ratio, \n",
    "     main = \"Income vs. Coverage to Income Ratio\",\n",
    "     xlab = \"Income\",\n",
    "     ylab = \"Coverage to Income Ratio (Thousands $)\")\n",
    "\n",
    "rad <- sqrt(qchisq(0.9999975, ncol(df)))\n",
    "ellipse(center = colMeans(df, na.rm = TRUE), \n",
    "        shape = cov(df), radius = rad, col = \"blue\")\n",
    "\n",
    "rad <- sqrt(qchisq(0.9999975, ncol(df)))\n",
    "ellipse(center = robustcenter, shape = robustcov, \n",
    "        radius = rad, col = \"red\")"
   ]
  },
  {
   "cell_type": "markdown",
   "id": "female-characterization",
   "metadata": {},
   "source": [
    "## Machine Learning Approaches"
   ]
  },
  {
   "cell_type": "markdown",
   "id": "aging-hands",
   "metadata": {},
   "source": [
    "This module details the area of machine learning approaches to anomaly detection. With the enhancements and creation of machine learning approaches to modeling, these same techniques form the foundation of more advanced anomaly detection methods. This module covers five main concepts in machine learning approaches to anomaly detection:\n",
    "\n",
    "1. k-Nearest Neighbors (k-NN)\n",
    "2. Local Outlier Factor (LOF)\n",
    "3. Isolation Forests\n",
    "4. Classifier-Adjusted Density Estimation (CADE)\n",
    "5. One-Class Support Vector Machines (SVM)"
   ]
  },
  {
   "cell_type": "markdown",
   "id": "intended-nursing",
   "metadata": {},
   "source": [
    "### k-Nearest Neighbors"
   ]
  },
  {
   "cell_type": "markdown",
   "id": "limited-clinton",
   "metadata": {},
   "source": [
    "Instead of looking at more statistical approaches, we can directly look at the average distance each point is from its k-nearest neighbors."
   ]
  },
  {
   "cell_type": "code",
   "execution_count": 36,
   "id": "basic-camera",
   "metadata": {},
   "outputs": [
    {
     "data": {
      "image/png": "[encoded data removed]",
      "text/plain": [
       "Plot with title \"Income vs. Coverage to Income Ratio \n",
       "Size Adjusted for kNN Score\""
      ]
     },
     "metadata": {
      "image/png": {
       "height": 420,
       "width": 420
      }
     },
     "output_type": "display_data"
    }
   ],
   "source": [
    "df <- data.frame(income = ins_feat$Income, \n",
    "                 CIRatio = ins_feat$Cov_Income_Ratio)\n",
    "\n",
    "ins_knn <- get.knn(data = df, k = 5)\n",
    "\n",
    "df$knn_score <- rowMeans(ins_knn$nn.dist)\n",
    "\n",
    "plot(CIRatio ~ income, data = df, cex = (knn_score)^(0.25), pch = 20,\n",
    "     main = \"Income vs. Coverage to Income Ratio \\nSize Adjusted for kNN Score\",\n",
    "     xlab = \"Income\",\n",
    "     ylab = \"Coverage to Income Ratio (Thousands $)\")"
   ]
  },
  {
   "cell_type": "markdown",
   "id": "reserved-detail",
   "metadata": {},
   "source": [
    "### Local Outlier Factor (LOF)"
   ]
  },
  {
   "cell_type": "markdown",
   "id": "eight-oracle",
   "metadata": {},
   "source": [
    "Let's examine more local outliers."
   ]
  },
  {
   "cell_type": "code",
   "execution_count": 37,
   "id": "annoying-examination",
   "metadata": {},
   "outputs": [
    {
     "data": {
      "image/png": "[encoded data removed]",
      "text/plain": [
       "Plot with title \"Income vs. Coverage to Income Ratio \n",
       "Size Adjusted for LOF Score\""
      ]
     },
     "metadata": {
      "image/png": {
       "height": 420,
       "width": 420
      }
     },
     "output_type": "display_data"
    }
   ],
   "source": [
    "df <- data.frame(income = ins_feat$Income, \n",
    "                 CIRatio = ins_feat$Cov_Income_Ratio)\n",
    "\n",
    "ins_lof <- lof(scale(df), k = 5)\n",
    "\n",
    "df$lof_score <- ins_lof\n",
    "\n",
    "plot(CIRatio ~ income, data = df, cex = lof_score, pch = 20,\n",
    "     main = \"Income vs. Coverage to Income Ratio \\nSize Adjusted for LOF Score\",\n",
    "     xlab = \"Income\",\n",
    "     ylab = \"Coverage to Income Ratio (Thousands $)\")"
   ]
  },
  {
   "cell_type": "markdown",
   "id": "involved-priority",
   "metadata": {},
   "source": [
    "### Isolation Forest"
   ]
  },
  {
   "cell_type": "markdown",
   "id": "arabic-narrative",
   "metadata": {},
   "source": [
    "Instead of distance based measures, now we switch to tree based approaches."
   ]
  },
  {
   "cell_type": "code",
   "execution_count": 38,
   "id": "turkish-roommate",
   "metadata": {},
   "outputs": [
    {
     "data": {
      "image/png": "[encoded data removed]",
      "text/plain": [
       "Plot with title \"Histogram of ins_score_500\""
      ]
     },
     "metadata": {
      "image/png": {
       "height": 420,
       "width": 420
      }
     },
     "output_type": "display_data"
    },
    {
     "data": {
      "image/png": "[encoded data removed]",
      "text/plain": [
       "Plot with title \"Income vs. Coverage to Income Ratio \n",
       "Size Adjusted for ISO Score\""
      ]
     },
     "metadata": {
      "image/png": {
       "height": 420,
       "width": 420
      }
     },
     "output_type": "display_data"
    }
   ],
   "source": [
    "df <- data.frame(income = ins_feat$Income, \n",
    "                 CIRatio = ins_feat$Cov_Income_Ratio)\n",
    "\n",
    "ins_for_100 <- isolation.forest(df = df, ntrees = 100, random_seed = 12345)\n",
    "ins_score_100 <- predict(ins_for_100, df)\n",
    "\n",
    "ins_for_500 <- isolation.forest(df = df, ntrees = 500, random_seed = 12345)\n",
    "ins_score_500 <- predict(ins_for_500, df)\n",
    "\n",
    "hist(ins_score_500)\n",
    "df$iso_score <- ins_score_500\n",
    "\n",
    "plot(CIRatio ~ income, data = df, cex = (-1/log(iso_score)), pch = 20,\n",
    "     main = \"Income vs. Coverage to Income Ratio \\nSize Adjusted for ISO Score\",\n",
    "     xlab = \"Income\",\n",
    "     ylab = \"Coverage to Income Ratio (Thousands $)\")"
   ]
  },
  {
   "cell_type": "markdown",
   "id": "junior-medication",
   "metadata": {},
   "source": [
    "### Classifier-Adjusted Density Estimation (CADE)"
   ]
  },
  {
   "cell_type": "markdown",
   "id": "dependent-mainland",
   "metadata": {},
   "source": [
    "Let's now finish off with more density based approaches to anomaly detection. Unfortunately, since CADE is so new we need to write it ourselves."
   ]
  },
  {
   "cell_type": "code",
   "execution_count": 44,
   "id": "ecological-grenada",
   "metadata": {},
   "outputs": [
    {
     "data": {
      "image/png": "[encoded data removed]",
      "text/plain": [
       "Plot with title \"Income vs. Coverage to Income Ratio \n",
       "Size Adjusted for CADE Probability\""
      ]
     },
     "metadata": {
      "image/png": {
       "height": 420,
       "width": 420
      }
     },
     "output_type": "display_data"
    },
    {
     "data": {
      "image/png": "[encoded data removed]",
      "text/plain": [
       "Plot with title \"Histogram of CADE Probability\""
      ]
     },
     "metadata": {
      "image/png": {
       "height": 420,
       "width": 420
      }
     },
     "output_type": "display_data"
    }
   ],
   "source": [
    "df <- data.frame(income = ins_feat$Income, \n",
    "                 CIRatio = ins_feat$Cov_Income_Ratio)\n",
    "\n",
    "trans_uni <- function(x, len = length(x)) {\n",
    "  if ( is.integer(x) ) {\n",
    "    sample(min(x):max(x), len, replace = TRUE)\n",
    "  } else if ( is.numeric(x) ) {\n",
    "    runif(len, min(x), max(x))\n",
    "  } else if ( is.factor(x) ) {\n",
    "    factor(sample(levels(x), len, replace = TRUE))\n",
    "  } else {\n",
    "    sample(unique(x), len, replace = TRUE)\n",
    "  }\n",
    "}\n",
    "\n",
    "cade <- function(df, n_tree) {\n",
    "  \n",
    "  actual <- df\n",
    "  \n",
    "  rand <- as.data.frame(lapply(actual, trans_uni))\n",
    "  \n",
    "  actual$y <- 0\n",
    "  rand$y <- 1\n",
    "\n",
    "  data <- rbind(actual, rand)\n",
    "  \n",
    "  tree <- randomForest(as.factor(y) ~ ., data = data, ntree = n_tree)\n",
    "  \n",
    "  # The classifier probabilities\n",
    "  df$prob <- predict(tree, newdata = df, type = 'prob')[, 2]\n",
    "  df$odds <- df$prob / (1 - df$prob)\n",
    "  \n",
    "  df\n",
    "}\n",
    "\n",
    "\n",
    "ins_cade <- cade(df = df, n_tree = 500)\n",
    "\n",
    "df$prob <- ins_cade$prob\n",
    "df$odds <- ins_cade$odds\n",
    "\n",
    "plot(CIRatio ~ income, data = df, cex = prob*10, pch = 20,\n",
    "     main = \"Income vs. Coverage to Income Ratio \\nSize Adjusted for CADE Probability\",\n",
    "     xlab = \"Income\",\n",
    "     ylab = \"Coverage to Income Ratio (Thousands $)\")\n",
    "\n",
    "hist(ins_cade$prob, breaks = 50,\n",
    "     main = \"Histogram of CADE Probability\")"
   ]
  },
  {
   "cell_type": "markdown",
   "id": "early-listening",
   "metadata": {},
   "source": [
    "### One-Class Support Vector Machines"
   ]
  },
  {
   "cell_type": "markdown",
   "id": "built-textbook",
   "metadata": {},
   "source": [
    "Lastly, let's look at the support vector machine approach."
   ]
  },
  {
   "cell_type": "code",
   "execution_count": 54,
   "id": "approved-witch",
   "metadata": {},
   "outputs": [
    {
     "data": {
      "image/png": "[encoded data removed]",
      "text/plain": [
       "Plot with title \"Income vs. Coverage to Income Ratio \n",
       "Color Adjusted for SVM Anomaly\""
      ]
     },
     "metadata": {
      "image/png": {
       "height": 420,
       "width": 420
      }
     },
     "output_type": "display_data"
    }
   ],
   "source": [
    "df <- data.frame(income = ins_feat$Income, \n",
    "                 CIRatio = ins_feat$Cov_Income_Ratio\n",
    "                )\n",
    "\n",
    "model <- svm(x = df, y = rep(1, length(ins_feat$Income)), type='one-classification', nu = 0.05)\n",
    "\n",
    "df$svm <- predict(model, df)\n",
    "\n",
    "df$svm <- ifelse(df$svm == TRUE, 1, 2)\n",
    "\n",
    "plot(CIRatio ~ income, data = df, pch = 20, col = df$svm, \n",
    "     main = \"Income vs. Coverage to Income Ratio \\nColor Adjusted for SVM Anomaly\",\n",
    "     xlab = \"Income\",\n",
    "     ylab = \"Coverage to Income Ratio (Thousands $)\")"
   ]
  },
  {
   "cell_type": "code",
   "execution_count": null,
   "id": "dress-delight",
   "metadata": {},
   "outputs": [],
   "source": []
  }
 ],
 "metadata": {
  "kernelspec": {
   "display_name": "R",
   "language": "R",
   "name": "ir"
  },
  "language_info": {
   "codemirror_mode": "r",
   "file_extension": ".r",
   "mimetype": "text/x-r-source",
   "name": "R",
   "pygments_lexer": "r",
   "version": "4.0.3"
  }
 },
 "nbformat": 4,
 "nbformat_minor": 5
}
